{
 "cells": [
  {
   "cell_type": "markdown",
   "id": "a854efc0-d19c-4381-bb55-d55a9a6de5aa",
   "metadata": {},
   "source": [
    "#### Class relationships"
   ]
  },
  {
   "cell_type": "markdown",
   "id": "06b54f20-5f2d-40f4-b1fb-077a8079db58",
   "metadata": {},
   "source": [
    "##### .Inheritance\n",
    "##### . Aggregation -->> Has a relation (one class owns the other class)"
   ]
  },
  {
   "cell_type": "markdown",
   "id": "74d35c58-8c56-4b78-a282-0b17108c35ca",
   "metadata": {},
   "source": [
    "##### Aggregation(Has-A-Relationship)"
   ]
  },
  {
   "cell_type": "code",
   "execution_count": 2,
   "id": "0f17b7c6-506c-41d7-a95d-9767111431e5",
   "metadata": {},
   "outputs": [
    {
     "name": "stdout",
     "output_type": "stream",
     "text": [
      "Gurgaon 122011 Haryana\n"
     ]
    }
   ],
   "source": [
    "# Example\n",
    "class Customer:\n",
    "\n",
    "    def __init__(self,name,gender,address):\n",
    "        self.name = name\n",
    "        self.gender = gender\n",
    "        self.address = address\n",
    "\n",
    "    def print_address(self):\n",
    "        print(self.address.city,self.address.pin,self.address.state)\n",
    "\n",
    "class Address:\n",
    "\n",
    "    def __init__(self,city,pin,state):\n",
    "        self.city = city\n",
    "        self.pin = pin\n",
    "        self.state = state\n",
    "        \n",
    "add1 = Address(\"Gurgaon\",122011,\"Haryana\")\n",
    "cust = Customer(\"Nitish\",\"Male\",add1)\n",
    "\n",
    "cust.print_address()"
   ]
  },
  {
   "cell_type": "markdown",
   "id": "bdd0a3c0-dadc-45b2-b702-e0cc60e47150",
   "metadata": {},
   "source": [
    "###### NOTE: You cannot access private variable while performing aggregation so when you make any variable private and try to print them it will throw error let's take example of making city as private variable"
   ]
  },
  {
   "cell_type": "markdown",
   "id": "10693dc3-3e1a-45b5-b264-de31213cff7c",
   "metadata": {},
   "source": [
    "###### To solve this error you can do getter setter method"
   ]
  },
  {
   "cell_type": "code",
   "execution_count": 7,
   "id": "d010348b-d0a6-4db5-88e1-6105d9c8e8b5",
   "metadata": {},
   "outputs": [
    {
     "name": "stdout",
     "output_type": "stream",
     "text": [
      "Gurgaon 122011 Haryana\n",
      "Mumbai 123456 Maharashtra\n"
     ]
    }
   ],
   "source": [
    "\n",
    "class Customer:\n",
    "\n",
    "    def __init__(self,name,gender,address):\n",
    "        self.name = name\n",
    "        self.gender = gender\n",
    "        self.address = address\n",
    "\n",
    "    def print_address(self):\n",
    "        # Here is slight changes in print method i.e self.address.get_city()\n",
    "        print(self.address.get_city(),self.address.pin,self.address.state)\n",
    "\n",
    "    def edit_profile(self,new_name,new_city,new_pin,new_state):\n",
    "        self.name = new_name\n",
    "        self.address.edit_address(new_city,new_pin,new_state)\n",
    "\n",
    "class Address:\n",
    "\n",
    "    def __init__(self,city,pin,state):\n",
    "        self.__city = city\n",
    "        self.pin = pin\n",
    "        self.state = state\n",
    "        \n",
    "    #Let's make getter method to avoid error\n",
    "    def get_city(self):\n",
    "        return self.__city\n",
    "\n",
    "    def edit_address(self,new_city,new_pin,new_state):\n",
    "        self.__city = new_city\n",
    "        self.pin = new_pin\n",
    "        self.state = new_state\n",
    "        \n",
    "add1 = Address(\"Gurgaon\",122011,\"Haryana\")\n",
    "cust = Customer(\"Nitish\",\"Male\",add1)\n",
    "\n",
    "cust.print_address()\n",
    "cust.edit_profile(\"Anurag\",\"Mumbai\",123456,\"Maharashtra\")\n",
    "cust.print_address()"
   ]
  },
  {
   "cell_type": "markdown",
   "id": "e0146206-5b98-41fc-b38c-99da34153fad",
   "metadata": {},
   "source": [
    "##### Aggregation class diagram -- ss in mobile"
   ]
  },
  {
   "cell_type": "markdown",
   "id": "0fd332ec-51eb-4cb9-aed8-2df1d020586b",
   "metadata": {},
   "source": [
    "### Inheritance"
   ]
  },
  {
   "cell_type": "markdown",
   "id": "a2f1bd17-f624-4a9f-b8cc-07e9ab767d63",
   "metadata": {},
   "source": [
    "###### ~ What is Inheritance ?\n",
    "###### ~ Example\n",
    "###### ~ What get inherited ?"
   ]
  },
  {
   "cell_type": "markdown",
   "id": "5fd5f584-ed01-4d5a-bcd4-b318cb84ef53",
   "metadata": {},
   "source": [
    "###### What is the biggest use of using inheritance in your class ?? -->> Code Reusability"
   ]
  },
  {
   "cell_type": "code",
   "execution_count": null,
   "id": "82e1bf69-0bbb-4785-8900-aa4d97b1abda",
   "metadata": {},
   "outputs": [],
   "source": [
    "# Inheritance and it's benefits\n"
   ]
  },
  {
   "cell_type": "code",
   "execution_count": 1,
   "id": "ee0d9d7e-3c0f-4ed9-bcd2-83da368a4362",
   "metadata": {},
   "outputs": [
    {
     "ename": "AttributeError",
     "evalue": "'Student' object has no attribute 'name'",
     "output_type": "error",
     "traceback": [
      "\u001b[1;31m---------------------------------------------------------------------------\u001b[0m",
      "\u001b[1;31mAttributeError\u001b[0m                            Traceback (most recent call last)",
      "Cell \u001b[1;32mIn[1], line 21\u001b[0m\n\u001b[0;32m     19\u001b[0m u \u001b[38;5;241m=\u001b[39m User()\n\u001b[0;32m     20\u001b[0m s \u001b[38;5;241m=\u001b[39m Student()\n\u001b[1;32m---> 21\u001b[0m \u001b[38;5;28mprint\u001b[39m(s\u001b[38;5;241m.\u001b[39mname)\n\u001b[0;32m     22\u001b[0m s\u001b[38;5;241m.\u001b[39mlogin()\n\u001b[0;32m     23\u001b[0m s\u001b[38;5;241m.\u001b[39menroll()\n",
      "\u001b[1;31mAttributeError\u001b[0m: 'Student' object has no attribute 'name'"
     ]
    }
   ],
   "source": [
    "# Example\n",
    "# Parent\n",
    "class User:\n",
    "    def __init__(self):\n",
    "        self.name = \"Nitish\"\n",
    "\n",
    "    def login(self):\n",
    "        print(\"Login\")\n",
    "\n",
    "#Child\n",
    "class Student(User):\n",
    "\n",
    "    def __init__(self):\n",
    "        self.rollNo = 100\n",
    "\n",
    "    def enroll(self):\n",
    "        print(\"Enroll into the course\")\n",
    "\n",
    "u = User()\n",
    "s = Student()\n",
    "print(s.name)\n",
    "s.login()\n",
    "s.enroll()\n",
    "# The error 'Student' object has no attribute 'name' is bcz compiler is checking that Student k \n",
    "# constructor me to name se variable hi nhi hai that's why error\n",
    "# But we want to access from parent class so make sure to remove constructor from child class"
   ]
  },
  {
   "cell_type": "code",
   "execution_count": 2,
   "id": "977f8631-e8eb-4399-8f4a-a5326af4be37",
   "metadata": {},
   "outputs": [
    {
     "name": "stdout",
     "output_type": "stream",
     "text": [
      "Nitish\n",
      "Login\n",
      "Enroll into the course\n"
     ]
    }
   ],
   "source": [
    "# Parent class\n",
    "class User:\n",
    "    def __init__(self):\n",
    "        self.name = \"Nitish\"\n",
    "\n",
    "    def login(self):\n",
    "        print(\"Login\")\n",
    "\n",
    "#Child class\n",
    "class Student(User):\n",
    "\n",
    "    def enroll(self):\n",
    "        print(\"Enroll into the course\")\n",
    "\n",
    "u = User()\n",
    "s = Student()\n",
    "print(s.name)\n",
    "s.login()\n",
    "s.enroll()"
   ]
  },
  {
   "cell_type": "code",
   "execution_count": null,
   "id": "6c2ff37a-cc4e-46d0-ac43-301b1c7b8487",
   "metadata": {},
   "outputs": [],
   "source": [
    "# Class Diagram"
   ]
  },
  {
   "cell_type": "markdown",
   "id": "66f9cdf5-0235-4048-b293-b234b470915b",
   "metadata": {},
   "source": [
    "###### What get inherited ?\n",
    "###### .Constructor\n",
    "###### .Non Private Attributes\n",
    "###### .Non Private Methods"
   ]
  },
  {
   "cell_type": "code",
   "execution_count": 5,
   "id": "58cb730d-4a58-4479-b2f0-a689fa7b237d",
   "metadata": {},
   "outputs": [
    {
     "name": "stdout",
     "output_type": "stream",
     "text": [
      "Inside phone constructor\n",
      "Buying a phone\n"
     ]
    }
   ],
   "source": [
    "# Constructor Example 1-->> If child has no constructor then constructor of parent class is call directly\n",
    "class Phone:\n",
    "    def __init__(self,price,brand,camera):\n",
    "        print(\"Inside phone constructor\")\n",
    "        self.price = price\n",
    "        self.brand = brand\n",
    "        self.camera = camera\n",
    "    def buy(self):\n",
    "        print(\"Buying a phone\")\n",
    "\n",
    "class Smartphone(Phone):\n",
    "    pass\n",
    "\n",
    "s = Smartphone(20000,\"Apple\",15)\n",
    "s.buy()\n",
    "    "
   ]
  },
  {
   "cell_type": "markdown",
   "id": "775bdc86-e7a5-4a82-81b5-a0d075fa278b",
   "metadata": {},
   "source": [
    "##### Constructor Overriding-->> If parent and child class both have constructor then costr. of child class will execute"
   ]
  },
  {
   "cell_type": "code",
   "execution_count": 8,
   "id": "643ff311-f16f-4df4-a645-6b0f13d919b2",
   "metadata": {},
   "outputs": [
    {
     "name": "stdout",
     "output_type": "stream",
     "text": [
      "Inside Smartphone Constructor\n"
     ]
    }
   ],
   "source": [
    "# Example 2 -->> If child class has its own constructor then no call for parent constructor\n",
    "# See the output also if you try to call parent class it will throw error\n",
    "class Phone:\n",
    "    def __init__(self,price,brand,camera):\n",
    "        print(\"Inside phone constructor\")\n",
    "        self.price = price\n",
    "        self.brand = brand\n",
    "        self.camera = camera\n",
    "    def buy(self):\n",
    "        print(\"Buying a phone\")\n",
    "\n",
    "class Smartphone(Phone):\n",
    "    def __init__(self,os,ram):\n",
    "        self.os = os\n",
    "        self.ram = ram\n",
    "        print(\"Inside Smartphone Constructor\")\n",
    "\n",
    "s = Smartphone(\"Android\",2)\n",
    "# s.brand -->> It shows error bcz we can't access variable of parent class kyuki parent class \n",
    "# ka constructor call hi nhi hua\n"
   ]
  },
  {
   "cell_type": "code",
   "execution_count": null,
   "id": "24eb1878-04ef-4b7d-81a2-f465e4646202",
   "metadata": {},
   "outputs": [],
   "source": []
  },
  {
   "cell_type": "markdown",
   "id": "6f377a88-f55f-4c5f-a831-ae11bba34c38",
   "metadata": {},
   "source": [
    "###### Example -->> child can't access private members of the class"
   ]
  },
  {
   "cell_type": "code",
   "execution_count": 10,
   "id": "49ed4f5a-0aba-4e0c-80a2-b6b4cd4fbd59",
   "metadata": {},
   "outputs": [
    {
     "name": "stdout",
     "output_type": "stream",
     "text": [
      "Inside phone constructor\n",
      "Apple\n"
     ]
    },
    {
     "ename": "AttributeError",
     "evalue": "'Smartphone' object has no attribute '_Smartphone__price'",
     "output_type": "error",
     "traceback": [
      "\u001b[1;31m---------------------------------------------------------------------------\u001b[0m",
      "\u001b[1;31mAttributeError\u001b[0m                            Traceback (most recent call last)",
      "Cell \u001b[1;32mIn[10], line 16\u001b[0m\n\u001b[0;32m     14\u001b[0m s \u001b[38;5;241m=\u001b[39m Smartphone(\u001b[38;5;241m20000\u001b[39m,\u001b[38;5;124m\"\u001b[39m\u001b[38;5;124mApple\u001b[39m\u001b[38;5;124m\"\u001b[39m,\u001b[38;5;241m16\u001b[39m)\n\u001b[0;32m     15\u001b[0m \u001b[38;5;28mprint\u001b[39m(s\u001b[38;5;241m.\u001b[39mbrand) \u001b[38;5;66;03m# Doesn't show error bcz it not private\u001b[39;00m\n\u001b[1;32m---> 16\u001b[0m s\u001b[38;5;241m.\u001b[39mcheck()\n",
      "Cell \u001b[1;32mIn[10], line 12\u001b[0m, in \u001b[0;36mSmartphone.check\u001b[1;34m(self)\u001b[0m\n\u001b[0;32m     11\u001b[0m \u001b[38;5;28;01mdef\u001b[39;00m \u001b[38;5;21mcheck\u001b[39m(\u001b[38;5;28mself\u001b[39m):\n\u001b[1;32m---> 12\u001b[0m     \u001b[38;5;28mprint\u001b[39m(\u001b[38;5;28mself\u001b[39m\u001b[38;5;241m.\u001b[39m__price)\n",
      "\u001b[1;31mAttributeError\u001b[0m: 'Smartphone' object has no attribute '_Smartphone__price'"
     ]
    }
   ],
   "source": [
    "class Phone:\n",
    "    def __init__(self,price,brand,camera):\n",
    "        print(\"Inside phone constructor\")\n",
    "        self.__price = price\n",
    "        self.brand = brand\n",
    "        self.camera = camera\n",
    "    def show(self):\n",
    "        print(self.__price)\n",
    "\n",
    "class Smartphone(Phone):\n",
    "   def check(self):\n",
    "       print(self.__price)\n",
    "\n",
    "s = Smartphone(20000,\"Apple\",16)\n",
    "print(s.brand) # Doesn't show error bcz it not private\n",
    "s.check() # It show error as it is private"
   ]
  },
  {
   "cell_type": "markdown",
   "id": "a16d0129-5439-4d27-a0b4-f9235c08d877",
   "metadata": {},
   "source": [
    "###### Although You can access private variable by using getter method let's see example"
   ]
  },
  {
   "cell_type": "code",
   "execution_count": 11,
   "id": "0cdc17e2-6adc-4db8-bac2-52b5cc569a99",
   "metadata": {},
   "outputs": [
    {
     "name": "stdout",
     "output_type": "stream",
     "text": [
      "100\n",
      "This is in child class\n"
     ]
    }
   ],
   "source": [
    "class Parent:\n",
    "    def __init__(self,num):\n",
    "        self.__num = num #Private variable\n",
    "        \n",
    "    def get_num(self):\n",
    "        return self.__num \n",
    "class Child(Parent):\n",
    "\n",
    "    def show(self):\n",
    "        print(\"This is in child class\")\n",
    "\n",
    "son = Child(100)\n",
    "print(son.get_num())#accessing pvt var throws error but here not throw error bcz using getter method\n",
    "son.show()"
   ]
  },
  {
   "cell_type": "code",
   "execution_count": 16,
   "id": "fc2184bb-efca-4b5f-bb33-e41124b243f7",
   "metadata": {},
   "outputs": [
    {
     "ename": "AttributeError",
     "evalue": "'Child' object has no attribute 'get__val'",
     "output_type": "error",
     "traceback": [
      "\u001b[1;31m---------------------------------------------------------------------------\u001b[0m",
      "\u001b[1;31mAttributeError\u001b[0m                            Traceback (most recent call last)",
      "Cell \u001b[1;32mIn[16], line 21\u001b[0m\n\u001b[0;32m     19\u001b[0m son \u001b[38;5;241m=\u001b[39m Child(\u001b[38;5;241m100\u001b[39m,\u001b[38;5;241m10\u001b[39m)\n\u001b[0;32m     20\u001b[0m \u001b[38;5;66;03m# print(\"Parent : Num: \",son.get_num())\u001b[39;00m\n\u001b[1;32m---> 21\u001b[0m \u001b[38;5;28mprint\u001b[39m(\u001b[38;5;124m\"\u001b[39m\u001b[38;5;124mChild : Val : \u001b[39m\u001b[38;5;124m\"\u001b[39m,son\u001b[38;5;241m.\u001b[39mget__val())\n",
      "\u001b[1;31mAttributeError\u001b[0m: 'Child' object has no attribute 'get__val'"
     ]
    }
   ],
   "source": [
    "# The code shows error bcz print(\"Parent : Num: \",son.get_num()) never called bcz child class have \n",
    "# constructor and so no call on parent class constr and hence we're unable to call \n",
    "class Parent:\n",
    "\n",
    "    def __init__(self,num):\n",
    "        self.__num = num\n",
    "\n",
    "    def get_num(self):\n",
    "        return self.__num\n",
    "\n",
    "class Child(Parent):\n",
    "\n",
    "    def __init__(self,val,num):\n",
    "        self.__val = val\n",
    "\n",
    "    def get_val(self):\n",
    "        return self.__val\n",
    "\n",
    "son = Child(100,10)\n",
    "# print(\"Parent : Num: \",son.get_num())\n",
    "print(\"Child : Val : \",son.get__val())"
   ]
  },
  {
   "cell_type": "code",
   "execution_count": null,
   "id": "21fbb57c-728b-4de8-8292-a6c23e7537a4",
   "metadata": {},
   "outputs": [],
   "source": []
  },
  {
   "cell_type": "code",
   "execution_count": 21,
   "id": "ca564cda-a66b-400c-946d-6bc89bfb91d4",
   "metadata": {},
   "outputs": [
    {
     "name": "stdout",
     "output_type": "stream",
     "text": [
      "Class A : 100\n"
     ]
    }
   ],
   "source": [
    "class A:\n",
    "\n",
    "    def __init__(self):\n",
    "        self.var1 = 100\n",
    "\n",
    "    def display1(self,var1): #NOTE: var1 mein 1200 hua jarur but utilise nhi hua bcz print mein self.var1 = 100 hai n \n",
    "        print(\"Class A :\",self.var1)\n",
    "\n",
    "# So var1 and self.var1 is totally different to each other\n",
    "\n",
    "class B(A):\n",
    "\n",
    "    def display2(self,var1):\n",
    "        print(\"Class B : \",self.var1)\n",
    "\n",
    "obj = B()\n",
    "obj.display1(1200)"
   ]
  },
  {
   "cell_type": "markdown",
   "id": "b31e1094-9424-4c53-a924-69750005eb38",
   "metadata": {},
   "source": [
    "##### Method Overriding-->> If both parent class and child class have same method then child class method will execute"
   ]
  },
  {
   "cell_type": "markdown",
   "id": "a235ae04-df5b-4df9-9710-c930f17df79d",
   "metadata": {},
   "source": [
    "###### In this code main catch is that which buy method will execute parent ka ya child class ka ??"
   ]
  },
  {
   "cell_type": "code",
   "execution_count": 22,
   "id": "5f8f232c-0c98-40fd-bf45-9e3ff874cc39",
   "metadata": {},
   "outputs": [
    {
     "name": "stdout",
     "output_type": "stream",
     "text": [
      "Buying a phone in Smartphone\n"
     ]
    }
   ],
   "source": [
    "class Phone:\n",
    "    def __init__(self,price,brand,camera):\n",
    "        self.__price = price\n",
    "        self.brand = brand\n",
    "        self.camera = camera\n",
    "\n",
    "    def buy(self):\n",
    "        print(\"Buying a phone\")\n",
    "\n",
    "class Smartphone(Phone):\n",
    "\n",
    "    def buy(self):\n",
    "        print(\"Buying a phone in Child class\")\n",
    "\n",
    "s = Smartphone(45000,\"Apple\",13)\n",
    "s.buy()"
   ]
  },
  {
   "cell_type": "code",
   "execution_count": null,
   "id": "0527d7f7-c64d-414f-9a5a-2e511c8fbf68",
   "metadata": {},
   "outputs": [],
   "source": []
  },
  {
   "cell_type": "markdown",
   "id": "99753267-701a-4361-98c7-32cb9aa03d10",
   "metadata": {},
   "source": [
    "#### Super Keyword-->> You can call method of parent class using super keyword"
   ]
  },
  {
   "cell_type": "code",
   "execution_count": 23,
   "id": "8168120f-2d04-4183-8efd-80e9731cf7ba",
   "metadata": {},
   "outputs": [
    {
     "name": "stdout",
     "output_type": "stream",
     "text": [
      "Buying a phone in Child class\n",
      "Buying a phone\n"
     ]
    }
   ],
   "source": [
    "class Phone:\n",
    "    def __init__(self,price,brand,camera):\n",
    "        self.__price = price\n",
    "        self.brand = brand\n",
    "        self.camera = camera\n",
    "\n",
    "    def buy(self):\n",
    "        print(\"Buying a phone\")\n",
    "\n",
    "class Smartphone(Phone):\n",
    "\n",
    "    def buy(self):\n",
    "        print(\"Buying a phone in Child class\")\n",
    "        # Below is syntax to call parent ka buy method\n",
    "        super().buy()\n",
    "\n",
    "s = Smartphone(45000,\"Apple\",13)\n",
    "s.buy()"
   ]
  },
  {
   "cell_type": "markdown",
   "id": "25002a0f-4066-4e53-9292-e63bdb5c024b",
   "metadata": {},
   "source": [
    "###### NOTE: You cannot use super keyword outside the class -->> below one is example"
   ]
  },
  {
   "cell_type": "code",
   "execution_count": 31,
   "id": "fee0bb67-abbd-457e-ac12-136e9b33a906",
   "metadata": {},
   "outputs": [
    {
     "ename": "AttributeError",
     "evalue": "'Smartphone' object has no attribute 'super'",
     "output_type": "error",
     "traceback": [
      "\u001b[1;31m---------------------------------------------------------------------------\u001b[0m",
      "\u001b[1;31mAttributeError\u001b[0m                            Traceback (most recent call last)",
      "Cell \u001b[1;32mIn[31], line 19\u001b[0m\n\u001b[0;32m     16\u001b[0m         \u001b[38;5;28msuper\u001b[39m()\u001b[38;5;241m.\u001b[39mbuy()\n\u001b[0;32m     18\u001b[0m s \u001b[38;5;241m=\u001b[39m Smartphone(\u001b[38;5;241m45000\u001b[39m,\u001b[38;5;124m\"\u001b[39m\u001b[38;5;124mApple\u001b[39m\u001b[38;5;124m\"\u001b[39m,\u001b[38;5;241m13\u001b[39m)\n\u001b[1;32m---> 19\u001b[0m s\u001b[38;5;241m.\u001b[39msuper()\u001b[38;5;241m.\u001b[39mbuy()\n",
      "\u001b[1;31mAttributeError\u001b[0m: 'Smartphone' object has no attribute 'super'"
     ]
    }
   ],
   "source": [
    "# using super outside the class -->> Throw an error\n",
    "class Phone:\n",
    "    def __init__(self,price,brand,camera):\n",
    "        self.__price = price\n",
    "        self.brand = brand\n",
    "        self.camera = camera\n",
    "\n",
    "    def buy(self):\n",
    "        print(\"Buying a phone\")\n",
    "\n",
    "class Smartphone(Phone):\n",
    "\n",
    "    def buy(self):\n",
    "        print(\"Buying a phone in Child class\")\n",
    "        # Below is syntax to call parent ka buy method\n",
    "        super().buy()\n",
    "\n",
    "s = Smartphone(45000,\"Apple\",13)\n",
    "s.super().buy()"
   ]
  },
  {
   "cell_type": "markdown",
   "id": "fab36175-3422-46b4-891d-7fbe2d808e3d",
   "metadata": {},
   "source": [
    "###### Can super access parent ka data ? No you cannot access attributes using super keyword"
   ]
  },
  {
   "cell_type": "code",
   "execution_count": 33,
   "id": "c045de65-b6d4-419c-a7fa-82456c535c11",
   "metadata": {},
   "outputs": [
    {
     "name": "stdout",
     "output_type": "stream",
     "text": [
      "Buying a phone in Child class\n"
     ]
    },
    {
     "ename": "AttributeError",
     "evalue": "'super' object has no attribute 'brand'",
     "output_type": "error",
     "traceback": [
      "\u001b[1;31m---------------------------------------------------------------------------\u001b[0m",
      "\u001b[1;31mAttributeError\u001b[0m                            Traceback (most recent call last)",
      "Cell \u001b[1;32mIn[33], line 18\u001b[0m\n\u001b[0;32m     15\u001b[0m         \u001b[38;5;28mprint\u001b[39m(\u001b[38;5;28msuper\u001b[39m()\u001b[38;5;241m.\u001b[39mbrand)\n\u001b[0;32m     17\u001b[0m s \u001b[38;5;241m=\u001b[39m Smartphone(\u001b[38;5;241m45000\u001b[39m,\u001b[38;5;124m\"\u001b[39m\u001b[38;5;124mApple\u001b[39m\u001b[38;5;124m\"\u001b[39m,\u001b[38;5;241m13\u001b[39m)\n\u001b[1;32m---> 18\u001b[0m s\u001b[38;5;241m.\u001b[39mbuy()\n",
      "Cell \u001b[1;32mIn[33], line 15\u001b[0m, in \u001b[0;36mSmartphone.buy\u001b[1;34m(self)\u001b[0m\n\u001b[0;32m     13\u001b[0m \u001b[38;5;28mprint\u001b[39m(\u001b[38;5;124m\"\u001b[39m\u001b[38;5;124mBuying a phone in Child class\u001b[39m\u001b[38;5;124m\"\u001b[39m)\n\u001b[0;32m     14\u001b[0m \u001b[38;5;66;03m# Below is syntax to call parent ka buy method\u001b[39;00m\n\u001b[1;32m---> 15\u001b[0m \u001b[38;5;28mprint\u001b[39m(\u001b[38;5;28msuper\u001b[39m()\u001b[38;5;241m.\u001b[39mbrand)\n",
      "\u001b[1;31mAttributeError\u001b[0m: 'super' object has no attribute 'brand'"
     ]
    }
   ],
   "source": [
    "class Phone:\n",
    "    def __init__(self,price,brand,camera):\n",
    "        self.__price = price\n",
    "        self.brand = brand\n",
    "        self.camera = camera\n",
    "\n",
    "    def buy(self):\n",
    "        print(\"Buying a phone\")\n",
    "\n",
    "class Smartphone(Phone):\n",
    "\n",
    "    def buy(self):\n",
    "        print(\"Buying a phone in Child class\")\n",
    "        # Below is syntax to call parent ka buy method\n",
    "        print(super().brand)\n",
    "\n",
    "s = Smartphone(45000,\"Apple\",13)\n",
    "s.buy()"
   ]
  },
  {
   "cell_type": "markdown",
   "id": "c455f617-c303-4b9d-9792-513af649756f",
   "metadata": {},
   "source": [
    "###### Super -->> Constructor"
   ]
  },
  {
   "cell_type": "code",
   "execution_count": 32,
   "id": "8ea4fe9b-3776-49d9-a2d7-8d69d122a77b",
   "metadata": {},
   "outputs": [
    {
     "name": "stdout",
     "output_type": "stream",
     "text": [
      "Inside smartphone constructor\n",
      "Inside phone constructor\n",
      "Inside smartphone constructor\n",
      "Android\n",
      "Samsung\n"
     ]
    }
   ],
   "source": [
    "# super-->> constructor\n",
    "class Phone:\n",
    "    def __init__(self,price,brand,camera):\n",
    "        print(\"Inside phone constructor\")\n",
    "        self.__price = price\n",
    "        self.brand = brand\n",
    "        self.camera = camera\n",
    "\n",
    "class Smartphone(Phone):\n",
    "    def __init__(self,price,brand,camera,os,ram):\n",
    "        print(\"Inside smartphone constructor\")\n",
    "        super().__init__(price,brand,camera)\n",
    "        self.os = os\n",
    "        self.ram = ram\n",
    "        print(\"Inside smartphone constructor\")\n",
    "\n",
    "s = Smartphone(30000,\"Samsung\",12,\"Android\",2)\n",
    "print(s.os)\n",
    "print(s.brand)"
   ]
  },
  {
   "cell_type": "markdown",
   "id": "08b5f20d-64e9-4237-a301-3ed9a451a5b1",
   "metadata": {},
   "source": [
    "##### Finally Summary is that ..\n",
    "###### a.super cannot access variables\n",
    "###### b.super cannot be used outside the class\n",
    "###### c.super is always used inside the child class"
   ]
  },
  {
   "cell_type": "markdown",
   "id": "37fa9c4f-a226-4e63-863a-998c5ec32a3e",
   "metadata": {},
   "source": [
    "#### Inheritance in Summary \n",
    "###### . A class can inherit from another class.\n",
    "###### . Inheritance improves code reuse\n",
    "###### . Constructor, attributes(only public but not private), methods get inherited to the child class\n",
    "###### . The parent has no access to the child class\n",
    "###### . Private properties of parent are not accessible directly in child class\n",
    "###### . Child class can override the attributes or methods. This is called method overriding\n",
    "###### . super() is an inbuilt function which is used to invoke the parent class methods and constructor"
   ]
  },
  {
   "cell_type": "code",
   "execution_count": 35,
   "id": "d8b615c5-c3c0-4d2e-96ab-7df59902acda",
   "metadata": {},
   "outputs": [],
   "source": [
    "# Predict the output of given below questions or code"
   ]
  },
  {
   "cell_type": "code",
   "execution_count": 36,
   "id": "198035f1-0238-4efe-a415-20c2937120f7",
   "metadata": {},
   "outputs": [
    {
     "name": "stdout",
     "output_type": "stream",
     "text": [
      "100\n",
      "200\n"
     ]
    }
   ],
   "source": [
    "#Example 01\n",
    "class Parent:\n",
    "\n",
    "    def __init__(self,num):\n",
    "      self.__num = num\n",
    "\n",
    "    def get_num(self):\n",
    "      return self.__num\n",
    "\n",
    "class Child(Parent):\n",
    "  \n",
    "    def __init__(self,num,val):\n",
    "      super().__init__(num)\n",
    "      self.__val = val\n",
    "\n",
    "    def get_val(self):\n",
    "      return self.__val\n",
    "      \n",
    "son = Child(100,200)\n",
    "print(son.get_num())\n",
    "print(son.get_val())"
   ]
  },
  {
   "cell_type": "code",
   "execution_count": 37,
   "id": "8da04b36-85c5-4bcf-9cd2-70311315d452",
   "metadata": {},
   "outputs": [
    {
     "name": "stdout",
     "output_type": "stream",
     "text": [
      "100\n",
      "200\n"
     ]
    }
   ],
   "source": [
    "# Example 02\n",
    "class Parent:\n",
    "    def __init__(self):\n",
    "        self.num = 100\n",
    "\n",
    "class Child(Parent):\n",
    "    \n",
    "    def __init__(self):\n",
    "        super().__init__()\n",
    "        self.var = 200\n",
    "\n",
    "    def show(self):\n",
    "        print(self.num)\n",
    "        print(self.var)\n",
    "\n",
    "son = Child()\n",
    "son.show()\n",
    "# Here self and son are same(don't know why ??) that's why num bhi print hoga whose value is 100"
   ]
  },
  {
   "cell_type": "code",
   "execution_count": 2,
   "id": "f1ae8fca-abd0-4da3-8217-fd2739dfd378",
   "metadata": {},
   "outputs": [
    {
     "name": "stdout",
     "output_type": "stream",
     "text": [
      "Child: 800\n"
     ]
    }
   ],
   "source": [
    "# Example 03\n",
    "class Parent:\n",
    "    def __init__(self):\n",
    "        self.__num = 100\n",
    "\n",
    "    def show(self):\n",
    "        print(\"Parent:\",self.__num)\n",
    "\n",
    "class Child(Parent):\n",
    "    \n",
    "    def __init__(self):\n",
    "        super().__init__()\n",
    "        self.__var = 800\n",
    "\n",
    "    def show(self):\n",
    "       print(\"Child:\",self.__var)\n",
    "obj = Child()\n",
    "obj.show()\n"
   ]
  },
  {
   "cell_type": "markdown",
   "id": "00e263b8-caca-4d0c-8747-857c58ee59c3",
   "metadata": {},
   "source": [
    "#### Types of Inheritance\n",
    "###### . Single Inheritance\n",
    "###### . Multilevel Inheritance\n",
    "###### . Hierarchical Inheritance\n",
    "###### . Multiple Inheritance(Diamond Problem)\n",
    "###### . Hybrid Inheritance"
   ]
  },
  {
   "cell_type": "code",
   "execution_count": 3,
   "id": "b58711e3-8bb9-43c1-8462-82c407f18951",
   "metadata": {},
   "outputs": [
    {
     "name": "stdout",
     "output_type": "stream",
     "text": [
      "Inside phone constructor\n",
      "Buying a phone\n"
     ]
    }
   ],
   "source": [
    "# Single Inheritance\n",
    "class Phone:\n",
    "    def __init__(self,price,brand,camera):\n",
    "        print(\"Inside phone constructor\")\n",
    "        self.__price = price\n",
    "        self.brand = brand\n",
    "        self.camera = camera\n",
    "\n",
    "    def buy(self):\n",
    "        print(\"Buying a phone\")\n",
    "\n",
    "class Smartphone(Phone):\n",
    "    pass\n",
    "\n",
    "Smartphone(1000,\"Apple\",\"13px\").buy()"
   ]
  },
  {
   "cell_type": "code",
   "execution_count": 4,
   "id": "8b116dd8-7590-490a-9cc7-34d0f17868e3",
   "metadata": {},
   "outputs": [
    {
     "name": "stdout",
     "output_type": "stream",
     "text": [
      "Inside phone constructor\n",
      "Buying a phone\n",
      "Product customer review\n"
     ]
    }
   ],
   "source": [
    "# Multilevel\n",
    "class Product:\n",
    "    def review(self):\n",
    "        print (\"Product customer review\")\n",
    "\n",
    "class Phone(Product):\n",
    "    def __init__(self, price, brand, camera):\n",
    "        print (\"Inside phone constructor\")\n",
    "        self.__price = price\n",
    "        self.brand = brand\n",
    "        self.camera = camera\n",
    "\n",
    "    def buy(self):\n",
    "        print (\"Buying a phone\")\n",
    "\n",
    "class Smartphone(Phone):\n",
    "    pass\n",
    "\n",
    "s = Smartphone(20000, \"Apple\", 12)\n",
    "\n",
    "s.buy()\n",
    "s.review()"
   ]
  },
  {
   "cell_type": "code",
   "execution_count": 5,
   "id": "3179250f-70ec-486a-90ea-edb63f88b44b",
   "metadata": {},
   "outputs": [
    {
     "name": "stdout",
     "output_type": "stream",
     "text": [
      "Inside phone constructor\n",
      "Buying a phone\n",
      "Inside phone constructor\n",
      "Buying a phone\n"
     ]
    }
   ],
   "source": [
    "# Hierarchial\n",
    "class Phone:\n",
    "    def __init__(self, price, brand, camera):\n",
    "        print (\"Inside phone constructor\")\n",
    "        self.__price = price\n",
    "        self.brand = brand\n",
    "        self.camera = camera\n",
    "\n",
    "    def buy(self):\n",
    "        print (\"Buying a phone\")\n",
    "\n",
    "class SmartPhone(Phone):\n",
    "    pass\n",
    "\n",
    "class FeaturePhone(Phone):\n",
    "    pass\n",
    "\n",
    "SmartPhone(1000,\"Apple\",\"13px\").buy()\n",
    "FeaturePhone(10,\"Lava\",\"1px\").buy()"
   ]
  },
  {
   "cell_type": "code",
   "execution_count": 6,
   "id": "c3781fb5-8ea4-4d4d-a8ac-03e3f38236ca",
   "metadata": {},
   "outputs": [
    {
     "name": "stdout",
     "output_type": "stream",
     "text": [
      "Inside phone constructor\n",
      "Buying a phone\n",
      "Customer review\n"
     ]
    }
   ],
   "source": [
    "# Multiple\n",
    "class Phone:\n",
    "    def __init__(self, price, brand, camera):\n",
    "        print (\"Inside phone constructor\")\n",
    "        self.__price = price\n",
    "        self.brand = brand\n",
    "        self.camera = camera\n",
    "\n",
    "    def buy(self):\n",
    "        print (\"Buying a phone\")\n",
    "\n",
    "class Product:\n",
    "    def review(self):\n",
    "        print (\"Customer review\")\n",
    "\n",
    "class SmartPhone(Phone, Product):\n",
    "    pass\n",
    "\n",
    "s = SmartPhone(20000, \"Apple\", 12)\n",
    "\n",
    "s.buy()\n",
    "s.review()"
   ]
  },
  {
   "cell_type": "code",
   "execution_count": 7,
   "id": "d8383a00-2cd2-4eca-bc07-bd49250963c5",
   "metadata": {},
   "outputs": [
    {
     "name": "stdout",
     "output_type": "stream",
     "text": [
      "Inside phone constructor\n",
      "Buying a phone\n"
     ]
    }
   ],
   "source": [
    "# the diamond problem\n",
    "# https://stackoverflow.com/questions/56361048/what-is-the-diamond-problem-in-python-and-why-its-not-appear-in-python2\n",
    "class Phone:\n",
    "    def __init__(self, price, brand, camera):\n",
    "        print (\"Inside phone constructor\")\n",
    "        self.__price = price\n",
    "        self.brand = brand\n",
    "        self.camera = camera\n",
    "\n",
    "    def buy(self):\n",
    "        print (\"Buying a phone\")\n",
    "\n",
    "class Product:\n",
    "    def buy(self):\n",
    "        print (\"Product buy method\")\n",
    "\n",
    "# Method resolution order -->> Means when you calling multiple parents then whose name is written 1st then\n",
    "# uska hi method call hoga i.e yahan pahle Phone then Product so Phone ka buy() method execute hoga\n",
    "class SmartPhone(Phone,Product):\n",
    "    pass\n",
    "\n",
    "s = SmartPhone(20000, \"Apple\", 12)\n",
    "s.buy()"
   ]
  },
  {
   "cell_type": "code",
   "execution_count": 8,
   "id": "02abac65-390f-4384-a2d7-19d1d3328c04",
   "metadata": {},
   "outputs": [
    {
     "name": "stdout",
     "output_type": "stream",
     "text": [
      "Inside phone constructor\n",
      "Product buy method\n"
     ]
    }
   ],
   "source": [
    "# Let's see another example in which Product is 1st and then Phone-->> See line no : 19\n",
    "class Phone:\n",
    "    def __init__(self, price, brand, camera):\n",
    "        print (\"Inside phone constructor\")\n",
    "        self.__price = price\n",
    "        self.brand = brand\n",
    "        self.camera = camera\n",
    "\n",
    "    def buy(self):\n",
    "        print (\"Buying a phone\")\n",
    "\n",
    "class Product:\n",
    "    def buy(self):\n",
    "        print (\"Product buy method\")\n",
    "\n",
    "# Method resolution order -->> Means when you calling multiple parents then whose name is written 1st then\n",
    "# uska hi method call hoga i.e yahan pahle Product then Phone so Product ka buy() method execute hoga\n",
    "class SmartPhone(Product,Phone):\n",
    "    pass\n",
    "\n",
    "s = SmartPhone(20000, \"Apple\", 12)\n",
    "s.buy()"
   ]
  },
  {
   "cell_type": "markdown",
   "id": "04ea2fe6-5af7-41d4-9d4b-bd47fe692b79",
   "metadata": {},
   "source": [
    "###### Practice Question"
   ]
  },
  {
   "cell_type": "code",
   "execution_count": 3,
   "id": "2b17a637-4787-4ff5-bc66-cdf163ef1133",
   "metadata": {},
   "outputs": [
    {
     "name": "stdout",
     "output_type": "stream",
     "text": [
      "70\n"
     ]
    }
   ],
   "source": [
    "#Example 01\n",
    "class A:\n",
    "    \n",
    "    def m1(self):\n",
    "        return 20\n",
    "        \n",
    "class B(A):\n",
    "        \n",
    "    def m1(self):\n",
    "        return 30\n",
    "        \n",
    "    def m2(self):\n",
    "        return 40\n",
    "\n",
    "class C(B):\n",
    "    def m2(self):\n",
    "        return 20\n",
    "\n",
    "obj1 = A()\n",
    "obj2 = B()\n",
    "obj3 = C()\n",
    "print(obj1.m1() + obj3.m1()+obj3.m2())\n",
    "    "
   ]
  },
  {
   "cell_type": "code",
   "execution_count": 7,
   "id": "11789fb6-04a7-4b4c-92e0-34daad2ad78a",
   "metadata": {},
   "outputs": [
    {
     "ename": "NameError",
     "evalue": "name 'self' is not defined",
     "output_type": "error",
     "traceback": [
      "\u001b[1;31m---------------------------------------------------------------------------\u001b[0m",
      "\u001b[1;31mNameError\u001b[0m                                 Traceback (most recent call last)",
      "Cell \u001b[1;32mIn[7], line 16\u001b[0m\n\u001b[0;32m     13\u001b[0m         \u001b[38;5;28;01mreturn\u001b[39;00m val\n\u001b[0;32m     15\u001b[0m obj \u001b[38;5;241m=\u001b[39m C()\n\u001b[1;32m---> 16\u001b[0m \u001b[38;5;28mprint\u001b[39m(obj\u001b[38;5;241m.\u001b[39mm1())\n",
      "Cell \u001b[1;32mIn[7], line 12\u001b[0m, in \u001b[0;36mC.m1\u001b[1;34m(Self)\u001b[0m\n\u001b[0;32m     11\u001b[0m \u001b[38;5;28;01mdef\u001b[39;00m \u001b[38;5;21mm1\u001b[39m(Self):\n\u001b[1;32m---> 12\u001b[0m     val \u001b[38;5;241m=\u001b[39m \u001b[38;5;28mself\u001b[39m\u001b[38;5;241m.\u001b[39mm1 \u001b[38;5;241m+\u001b[39m \u001b[38;5;241m20\u001b[39m\n\u001b[0;32m     13\u001b[0m     \u001b[38;5;28;01mreturn\u001b[39;00m val\n",
      "\u001b[1;31mNameError\u001b[0m: name 'self' is not defined"
     ]
    }
   ],
   "source": [
    "class A:\n",
    "    def m1(self):\n",
    "        return 20\n",
    "\n",
    "class B(A):\n",
    "    def m1(self):\n",
    "        val = super().m1 + 30\n",
    "        return val\n",
    "\n",
    "class C(B):\n",
    "    def m1(Self):\n",
    "        val = self.m1 + 20\n",
    "        return val\n",
    "\n",
    "obj = C()\n",
    "print(obj.m1())\n",
    "# This error is bcz of m1 of C is calling infinitely instead of B"
   ]
  },
  {
   "cell_type": "markdown",
   "id": "667773f6-75a7-4962-b800-dd82b82a1e84",
   "metadata": {},
   "source": [
    "### Polymorphism"
   ]
  },
  {
   "cell_type": "markdown",
   "id": "cbc00692-1ad7-46d8-a7a6-aebb33cde00e",
   "metadata": {},
   "source": [
    "###### Polymorphism is a core concept in object-oriented programming (OOP) that allows objects of different classes to be treated as objects of a common superclass. It enables a single interface to represent different types of behavior."
   ]
  },
  {
   "cell_type": "markdown",
   "id": "4cd634bd-40a1-4c5b-a655-4a56bd2230db",
   "metadata": {},
   "source": [
    "###### . Method Overriding\n",
    "###### . Method Overloading\n",
    "###### . Operator Overloading"
   ]
  },
  {
   "cell_type": "markdown",
   "id": "3a191c64-9143-45ca-8db2-45f950cd76f5",
   "metadata": {},
   "source": [
    "##### Method Overriding-->> In scenario of Inheritance parent and child have method with same name then if child ka object method ko call kerga to child wala hi method execute hoga -->>>already done in this session "
   ]
  },
  {
   "cell_type": "markdown",
   "id": "53573d88-93db-403e-b33c-554b330747f7",
   "metadata": {},
   "source": [
    "##### Method Overloading is a concept where inside the class there is multiple methods with the same name but their output is different based on input provided "
   ]
  },
  {
   "cell_type": "markdown",
   "id": "5697c66a-c2b5-4f3e-8531-e994ce1039b3",
   "metadata": {},
   "source": [
    "##### NOTE: Unfortunately,method overloading is not possible in Python ... Here is something different "
   ]
  },
  {
   "cell_type": "code",
   "execution_count": 26,
   "id": "73c3f38a-e4d4-416e-aecc-217628a247b2",
   "metadata": {},
   "outputs": [
    {
     "data": {
      "text/plain": [
       "42"
      ]
     },
     "execution_count": 26,
     "metadata": {},
     "output_type": "execute_result"
    }
   ],
   "source": [
    "# Method Overloading-->> By using this our code is more clean in purpose of reading\n",
    "# Here method name is same and now python will decide by taking input from user\n",
    "class Shape:\n",
    "\n",
    "    def area(self,radius):\n",
    "        return 3.14*radius*radius\n",
    "\n",
    "    def area(self,l,b):\n",
    "        return l*b\n",
    "\n",
    "s.area(2)\n",
    "s.area(6,7)"
   ]
  },
  {
   "cell_type": "markdown",
   "id": "4d9b23df-ed6e-483a-b7e4-f93f336eaede",
   "metadata": {},
   "source": [
    "##### The another different thing in python rather than overloading is given below called default value"
   ]
  },
  {
   "cell_type": "code",
   "execution_count": 27,
   "id": "68fac6f7-993f-4fe0-a803-48d49a690689",
   "metadata": {},
   "outputs": [
    {
     "name": "stdout",
     "output_type": "stream",
     "text": [
      "12.56\n",
      "12\n"
     ]
    }
   ],
   "source": [
    "class Shape:\n",
    "\n",
    "    def area(self,a,b=0):\n",
    "        if b == 0:\n",
    "            return 3.14*a*a\n",
    "        else:\n",
    "            return a*b\n",
    "\n",
    "s = Shape()\n",
    "print(s.area(2))\n",
    "print(s.area(3,4))\n"
   ]
  },
  {
   "cell_type": "markdown",
   "id": "b79bd253-455f-43b3-bea0-69343e66e991",
   "metadata": {},
   "source": [
    "###### Operator Overloading -->> same operator ka behaviour is different when you gave  different types of input"
   ]
  },
  {
   "cell_type": "code",
   "execution_count": 28,
   "id": "92c48b5b-7b05-42a4-a2b4-bce686fa76c9",
   "metadata": {},
   "outputs": [],
   "source": [
    "# Let's take \"+\" operator"
   ]
  },
  {
   "cell_type": "code",
   "execution_count": 29,
   "id": "2b12899e-bd37-4f54-a663-1798602cbcbe",
   "metadata": {},
   "outputs": [
    {
     "data": {
      "text/plain": [
       "'HelloWorld'"
      ]
     },
     "execution_count": 29,
     "metadata": {},
     "output_type": "execute_result"
    }
   ],
   "source": [
    "# When use string then -->> Concatenation hua\n",
    "\"Hello\" + \"World\""
   ]
  },
  {
   "cell_type": "code",
   "execution_count": 30,
   "id": "7787219f-c1a9-46cf-8c85-3ad18d07766c",
   "metadata": {},
   "outputs": [
    {
     "data": {
      "text/plain": [
       "9"
      ]
     },
     "execution_count": 30,
     "metadata": {},
     "output_type": "execute_result"
    }
   ],
   "source": [
    "# When used number then -->> Addition hua\n",
    "4+5"
   ]
  },
  {
   "cell_type": "code",
   "execution_count": 31,
   "id": "6562b345-f86f-45dd-839d-3db572ef4658",
   "metadata": {},
   "outputs": [
    {
     "data": {
      "text/plain": [
       "[1, 2, 3, 4, 5]"
      ]
     },
     "execution_count": 31,
     "metadata": {},
     "output_type": "execute_result"
    }
   ],
   "source": [
    "# When used List then -->> Merging hua\n",
    "[1,2,3] + [4,5]"
   ]
  },
  {
   "cell_type": "markdown",
   "id": "193d6116-9e52-4731-909f-1e85babf66a4",
   "metadata": {},
   "source": [
    "### Abstraction"
   ]
  },
  {
   "cell_type": "markdown",
   "id": "06e4ca51-dca1-4b2a-843b-79c34420e0a0",
   "metadata": {},
   "source": [
    "##### What is Abstraction ?? -->> Think of a car — you use the steering wheel, brake, and accelerator to drive it, but you don’t need to know how the engine works internally. That’s abstraction — hiding the complexity and showing only what’s necessary."
   ]
  },
  {
   "cell_type": "code",
   "execution_count": 10,
   "id": "36057c8f-7db0-42ec-badf-76de8ee09c66",
   "metadata": {},
   "outputs": [],
   "source": [
    "from abc import ABC, abstractmethod\n",
    "class BankApp(ABC):\n",
    "\n",
    "    def database(self):\n",
    "        print(\"Connected to database\")\n",
    "\n",
    "    @abstractmethod\n",
    "    def security(self):\n",
    "        pass\n",
    "    "
   ]
  },
  {
   "cell_type": "code",
   "execution_count": 11,
   "id": "f83881ac-b635-4efb-891a-f361ba6e6d13",
   "metadata": {},
   "outputs": [],
   "source": [
    "class MobileApp(BankApp):\n",
    "    def mobile_login(self):\n",
    "        print(\"Login into mobile\")"
   ]
  },
  {
   "cell_type": "code",
   "execution_count": 12,
   "id": "9dbb2c19-a4f5-426d-8761-298637348fee",
   "metadata": {},
   "outputs": [
    {
     "ename": "TypeError",
     "evalue": "Can't instantiate abstract class MobileApp without an implementation for abstract method 'security'",
     "output_type": "error",
     "traceback": [
      "\u001b[1;31m---------------------------------------------------------------------------\u001b[0m",
      "\u001b[1;31mTypeError\u001b[0m                                 Traceback (most recent call last)",
      "Cell \u001b[1;32mIn[12], line 1\u001b[0m\n\u001b[1;32m----> 1\u001b[0m obj \u001b[38;5;241m=\u001b[39m MobileApp()\n",
      "\u001b[1;31mTypeError\u001b[0m: Can't instantiate abstract class MobileApp without an implementation for abstract method 'security'"
     ]
    }
   ],
   "source": [
    "obj = MobileApp()"
   ]
  },
  {
   "cell_type": "markdown",
   "id": "86363436-670f-4d6b-a7f7-6b156bc7532f",
   "metadata": {},
   "source": [
    "###### Error is bcz -->> aap BankApp ko tb tk inherit nahi kr sakte jab tak aap uske abstarct method ko MobileApp me add nahi karte  "
   ]
  },
  {
   "cell_type": "code",
   "execution_count": 24,
   "id": "f32d2acd-83a3-4a43-8bc3-9143691a4542",
   "metadata": {},
   "outputs": [],
   "source": [
    "# Corrected way\n",
    "class MobileApp(BankApp):\n",
    "    def mobile_login(self):\n",
    "        print(\"Login into mobile\")\n",
    "\n",
    "    def security(self):\n",
    "        print(\"Mobile Security\")\n",
    "        "
   ]
  },
  {
   "cell_type": "code",
   "execution_count": 25,
   "id": "c3dcb8c2-01be-4d50-84ac-696b7b995425",
   "metadata": {},
   "outputs": [
    {
     "ename": "TypeError",
     "evalue": "Can't instantiate abstract class MobileApp without an implementation for abstract method 'display'",
     "output_type": "error",
     "traceback": [
      "\u001b[1;31m---------------------------------------------------------------------------\u001b[0m",
      "\u001b[1;31mTypeError\u001b[0m                                 Traceback (most recent call last)",
      "Cell \u001b[1;32mIn[25], line 1\u001b[0m\n\u001b[1;32m----> 1\u001b[0m mob \u001b[38;5;241m=\u001b[39m MobileApp()\n\u001b[0;32m      2\u001b[0m mob\u001b[38;5;241m.\u001b[39msecurity()\n",
      "\u001b[1;31mTypeError\u001b[0m: Can't instantiate abstract class MobileApp without an implementation for abstract method 'display'"
     ]
    }
   ],
   "source": [
    "mob = MobileApp()\n",
    "mob.security()"
   ]
  },
  {
   "cell_type": "code",
   "execution_count": 26,
   "id": "bc80bb97-835d-4625-a29c-b6f09309ea6c",
   "metadata": {},
   "outputs": [],
   "source": [
    "# Another Example"
   ]
  },
  {
   "cell_type": "code",
   "execution_count": 27,
   "id": "beb49ec8-2df0-48e0-a18b-37cbd6812682",
   "metadata": {},
   "outputs": [],
   "source": [
    "from abc import ABC, abstractmethod\n",
    "class BankApp(ABC):\n",
    "\n",
    "    def database(self):\n",
    "        print(\"Connected to database\")\n",
    "\n",
    "    @abstractmethod\n",
    "    def security(self):\n",
    "        pass\n",
    "    @abstractmethod\n",
    "    def display(self):\n",
    "        pass"
   ]
  },
  {
   "cell_type": "code",
   "execution_count": 20,
   "id": "e058cd5b-77bf-4c7a-9f8c-41c542717242",
   "metadata": {},
   "outputs": [],
   "source": [
    "class MobileApp(BankApp):\n",
    "    def mobile_login(self):\n",
    "        print(\"Login into mobile\")\n",
    "\n",
    "    def security(self):\n",
    "        print(\"Mobile Security\")\n",
    "        "
   ]
  },
  {
   "cell_type": "code",
   "execution_count": 21,
   "id": "7e02f3f1-8fe1-4e05-a6ad-2d78c5ca12bd",
   "metadata": {},
   "outputs": [
    {
     "ename": "TypeError",
     "evalue": "Can't instantiate abstract class MobileApp without an implementation for abstract method 'display'",
     "output_type": "error",
     "traceback": [
      "\u001b[1;31m---------------------------------------------------------------------------\u001b[0m",
      "\u001b[1;31mTypeError\u001b[0m                                 Traceback (most recent call last)",
      "Cell \u001b[1;32mIn[21], line 1\u001b[0m\n\u001b[1;32m----> 1\u001b[0m mob \u001b[38;5;241m=\u001b[39m MobileApp()\n\u001b[0;32m      2\u001b[0m mob\u001b[38;5;241m.\u001b[39msecurity()\n",
      "\u001b[1;31mTypeError\u001b[0m: Can't instantiate abstract class MobileApp without an implementation for abstract method 'display'"
     ]
    }
   ],
   "source": [
    "mob = MobileApp()\n",
    "mob.security()"
   ]
  },
  {
   "cell_type": "code",
   "execution_count": 28,
   "id": "15c9356b-9107-466c-8dbf-e38ce2b6fec3",
   "metadata": {},
   "outputs": [],
   "source": [
    "# Corrected way\n",
    "class MobileApp(BankApp):\n",
    "    def mobile_login(self):\n",
    "        print(\"Login into mobile\")\n",
    "\n",
    "    def security(self):\n",
    "        print(\"Mobile Security\")\n",
    "\n",
    "    def display(self):\n",
    "        print(\"Display\")"
   ]
  },
  {
   "cell_type": "code",
   "execution_count": 23,
   "id": "1e4aaef0-beb3-48e2-ad83-e4bd29375658",
   "metadata": {},
   "outputs": [
    {
     "name": "stdout",
     "output_type": "stream",
     "text": [
      "Mobile Security\n"
     ]
    }
   ],
   "source": [
    "mob = MobileApp()\n",
    "mob.security()"
   ]
  },
  {
   "cell_type": "code",
   "execution_count": null,
   "id": "456f020e-e703-4f1c-9449-2d1e2679e53c",
   "metadata": {},
   "outputs": [],
   "source": []
  }
 ],
 "metadata": {
  "kernelspec": {
   "display_name": "Python 3 (ipykernel)",
   "language": "python",
   "name": "python3"
  },
  "language_info": {
   "codemirror_mode": {
    "name": "ipython",
    "version": 3
   },
   "file_extension": ".py",
   "mimetype": "text/x-python",
   "name": "python",
   "nbconvert_exporter": "python",
   "pygments_lexer": "ipython3",
   "version": "3.12.7"
  }
 },
 "nbformat": 4,
 "nbformat_minor": 5
}
