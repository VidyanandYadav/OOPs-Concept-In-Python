{
 "cells": [
  {
   "cell_type": "markdown",
   "id": "fb01db27-4156-4bdf-9fc3-22a4aa30c3ef",
   "metadata": {},
   "source": [
    "### Some Practice Question Based on Strings"
   ]
  },
  {
   "cell_type": "code",
   "execution_count": 1,
   "id": "9b892a19-726c-4557-86a3-4a5e2a2993a5",
   "metadata": {},
   "outputs": [
    {
     "name": "stdin",
     "output_type": "stream",
     "text": [
      "Enter the String :  Vidyanand Yadav\n"
     ]
    },
    {
     "name": "stdout",
     "output_type": "stream",
     "text": [
      "Length of string is :  15\n"
     ]
    }
   ],
   "source": [
    "# Que 01: Find the length of a given string without using the len() function\n",
    "s = input(\"Enter the String : \")\n",
    "counter = 0\n",
    "for i in s:\n",
    "    counter += 1\n",
    "print(\"Length of string is : \",counter)    "
   ]
  },
  {
   "cell_type": "code",
   "execution_count": 3,
   "id": "0194c9f9-a641-4501-b842-f3b67a4da4d3",
   "metadata": {},
   "outputs": [
    {
     "name": "stdin",
     "output_type": "stream",
     "text": [
      "Enter your Email-Id :  deepuprince91@gmail.com\n"
     ]
    },
    {
     "name": "stdout",
     "output_type": "stream",
     "text": [
      "deepuprince91\n"
     ]
    }
   ],
   "source": [
    "# Que 02: Extract username from a given email e.g deepuprince91@gmail.com the username is deepuprince91\n",
    "email = input(\"Enter your Email-Id : \")\n",
    "pos = email.index(\"@\")\n",
    "print(email[0:pos])"
   ]
  },
  {
   "cell_type": "code",
   "execution_count": 6,
   "id": "abcd26b0-c45c-443b-90b0-e4c5004af241",
   "metadata": {},
   "outputs": [
    {
     "name": "stdin",
     "output_type": "stream",
     "text": [
      "Enter the Email :  deepuprince91@gmail.in\n",
      "What would you like to search for :  e\n"
     ]
    },
    {
     "name": "stdout",
     "output_type": "stream",
     "text": [
      "Frequency is  3\n"
     ]
    }
   ],
   "source": [
    "# Que 03: Count the frequency of a particular character in a provided string i.e if given string is \n",
    "# Hello How Are You ... The freq. of H is 2\n",
    "s = input(\"Enter the Email : \")\n",
    "term = input(\"What would you like to search for : \")\n",
    "counter = 0\n",
    "for i in s:\n",
    "  if i == term:\n",
    "    counter += 1\n",
    "print(\"Frequency is \",counter)    "
   ]
  },
  {
   "cell_type": "code",
   "execution_count": 13,
   "id": "c30f39c9-3678-44d9-b3eb-8adfc6050a7d",
   "metadata": {},
   "outputs": [
    {
     "name": "stdin",
     "output_type": "stream",
     "text": [
      "Enter the String :  Sonam Bajwa\n",
      "Which character you want to remove :  j\n"
     ]
    },
    {
     "name": "stdout",
     "output_type": "stream",
     "text": [
      "Sonam Bajwa\n"
     ]
    }
   ],
   "source": [
    "# Que 04: Write a program which can remove a particular character from a string\n",
    "s = input(\"Enter the String : \")\n",
    "p_char = input(\"Which character you want to remove : \")\n",
    "for i in s:\n",
    "  if i == p_char:\n",
    "      continue\n",
    "print(s)\n",
    "# Note : Above code is not working bcz string are immutable i.e we can't change the string so\n",
    "# First make one another string and then try...which is done below\n"
   ]
  },
  {
   "cell_type": "code",
   "execution_count": 10,
   "id": "b348557e-2c36-4954-8e15-b8290e74db1a",
   "metadata": {},
   "outputs": [
    {
     "name": "stdin",
     "output_type": "stream",
     "text": [
      "Enter the String :  Sonam Bajwa\n",
      "Which character you want to remove :  j\n"
     ]
    },
    {
     "name": "stdout",
     "output_type": "stream",
     "text": [
      "Sonam Bawa\n"
     ]
    }
   ],
   "source": [
    "s = input(\"Enter the String : \")\n",
    "p_char = input(\"Which character you want to remove : \")\n",
    "result = \"\"\n",
    "for i in s:\n",
    "  if i != p_char:\n",
    "   result = result + i\n",
    "print(result)"
   ]
  },
  {
   "cell_type": "code",
   "execution_count": 43,
   "id": "dbaa208a-8585-4db7-8b24-c23fad0f7ede",
   "metadata": {},
   "outputs": [
    {
     "name": "stdin",
     "output_type": "stream",
     "text": [
      "Enter the string :  vkhjffxf\n"
     ]
    },
    {
     "name": "stdout",
     "output_type": "stream",
     "text": [
      "Not a palindrome\n"
     ]
    }
   ],
   "source": [
    "# Que 05: Write a program that can check whether a given string is palindrome or not e.g malayalam abba etc\n",
    "s = input(\"Enter the string : \")\n",
    "flag = True\n",
    "for i in range(0,len(s)//2):\n",
    "  if s[i] != s[len(s)-i-1]:\n",
    "      flag = False\n",
    "      print(\"Not a palindrome\")\n",
    "      break\n",
    "if flag:   \n",
    "  print('Palindrome')"
   ]
  },
  {
   "cell_type": "code",
   "execution_count": 46,
   "id": "1de02849-3b43-4435-aba1-edb576bf727f",
   "metadata": {},
   "outputs": [
    {
     "name": "stdin",
     "output_type": "stream",
     "text": [
      "Enter the String :  Hi how ahfwx hwsbshd nshsdJBCN SJHSBCD\n"
     ]
    },
    {
     "name": "stdout",
     "output_type": "stream",
     "text": [
      "['Hi', 'how', 'ahfwx', 'hwsbshd', 'nshsdJBCN', 'SJHSBCD']\n"
     ]
    }
   ],
   "source": [
    "# Que 06 : Write a program to count the number of words in a string without split()\n",
    "s = input(\"Enter the String : \")\n",
    "L = []\n",
    "temp = \"\"\n",
    "for i in s:\n",
    "  if i != \" \":\n",
    "   temp = temp + i\n",
    "  else:\n",
    "      L.append(temp)\n",
    "      temp = \"\"\n",
    "L.append(temp) #Without this, we can't able to print last word of every string  \n",
    "print(L)      "
   ]
  },
  {
   "cell_type": "code",
   "execution_count": 47,
   "id": "46db28cc-7e7a-4f67-9b2f-bb1ba2f8690c",
   "metadata": {},
   "outputs": [
    {
     "name": "stdin",
     "output_type": "stream",
     "text": [
      "Enter the String :  hi heyy how are you \n"
     ]
    },
    {
     "name": "stdout",
     "output_type": "stream",
     "text": [
      "Hi Heyy How Are You\n"
     ]
    }
   ],
   "source": [
    "# Que 07 : Write a python program to convert a string to title case without using title()\n",
    "s = input(\"Enter the String : \")\n",
    "L = []\n",
    "for i in s.split():\n",
    "  L.append(i[0].upper() + i[1:].lower())\n",
    "print(\" \".join(L))"
   ]
  },
  {
   "cell_type": "code",
   "execution_count": 49,
   "id": "4440136c-1649-4381-8d71-54a7964f8a2d",
   "metadata": {},
   "outputs": [
    {
     "name": "stdin",
     "output_type": "stream",
     "text": [
      "Enter the Number :  44843\n"
     ]
    },
    {
     "name": "stdout",
     "output_type": "stream",
     "text": [
      "44843\n",
      "<class 'str'>\n"
     ]
    }
   ],
   "source": [
    "# Write a program that can convert an integer to a string\n",
    "number = int(input(\"Enter the Number : \"))\n",
    "digits = \"0123456789\"\n",
    "result = \"\"\n",
    "while number != 0:\n",
    "    result = digits[number%10] + result\n",
    "    number = number//10\n",
    "print(result) #It will print result in string but in output it shows like integer so for\n",
    "# confirmation you can check its type by\n",
    "print(type(result))"
   ]
  },
  {
   "cell_type": "code",
   "execution_count": null,
   "id": "818a22dc-6e11-4b10-9faf-23daeb29e247",
   "metadata": {},
   "outputs": [],
   "source": []
  }
 ],
 "metadata": {
  "kernelspec": {
   "display_name": "Python 3 (ipykernel)",
   "language": "python",
   "name": "python3"
  },
  "language_info": {
   "codemirror_mode": {
    "name": "ipython",
    "version": 3
   },
   "file_extension": ".py",
   "mimetype": "text/x-python",
   "name": "python",
   "nbconvert_exporter": "python",
   "pygments_lexer": "ipython3",
   "version": "3.12.7"
  }
 },
 "nbformat": 4,
 "nbformat_minor": 5
}
