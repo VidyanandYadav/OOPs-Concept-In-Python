{
 "cells": [
  {
   "cell_type": "markdown",
   "id": "6884eaf2-2e9c-4292-ab51-98612d0169a7",
   "metadata": {},
   "source": [
    "### Practice Question"
   ]
  },
  {
   "cell_type": "markdown",
   "id": "94b2711d-3bcf-4842-b6e4-f4bb9189d087",
   "metadata": {},
   "source": [
    "##### Que:01 Rectangle Class"
   ]
  },
  {
   "cell_type": "markdown",
   "id": "0979eaae-c229-4d6f-a870-33f09d80323e",
   "metadata": {},
   "source": [
    "###### 1.Write a Rectangle class in Python language, allowing you to build a rectangle with length and width attributes.\n",
    "###### 2.Create a Perimeter() method to calculate the perimeter of the rectangle and a Area() method to calculate the area of ​​the rectangle.\n",
    "###### 3.Create a method display() that display the length, width, perimeter and area of an object created using an instantiation on rectangle class."
   ]
  },
  {
   "cell_type": "code",
   "execution_count": null,
   "id": "b699b5ea-2453-468e-9457-6a8a35188e93",
   "metadata": {},
   "outputs": [],
   "source": []
  },
  {
   "cell_type": "code",
   "execution_count": 10,
   "id": "fd5777a6-4cf6-493f-bdb8-dc5b1ec55518",
   "metadata": {},
   "outputs": [
    {
     "name": "stdout",
     "output_type": "stream",
     "text": [
      "Length : 10\n",
      "Width : 5\n",
      "Area : 50\n",
      "Perimeter : 30\n"
     ]
    }
   ],
   "source": [
    "class Rectangle:\n",
    "    \n",
    "    def __init__(self,length,width):\n",
    "        self.length = length\n",
    "        self.width = width\n",
    "\n",
    "    def calc_peri(self):\n",
    "        return 2 * (self.length + self.width)\n",
    "\n",
    "    def calc_area(self):\n",
    "        return self.length*self.width\n",
    "\n",
    "    def display_details(self):\n",
    "        print(f\"Length : {self.length}\")\n",
    "        print(f\"Width : {self.width}\")\n",
    "        print(f\"Area : {self.calc_area()}\")\n",
    "        print(f\"Perimeter : {self.calc_peri()}\")\n",
    "\n",
    "obj = Rectangle(10,5)\n",
    "obj.display_details()"
   ]
  },
  {
   "cell_type": "markdown",
   "id": "edd0acf5-ab35-4833-bfef-3ac969c4ddba",
   "metadata": {},
   "source": [
    "##### Que: 02 Bank Class"
   ]
  },
  {
   "cell_type": "markdown",
   "id": "c0169978-9876-4597-a75b-5536960a10fa",
   "metadata": {},
   "source": [
    "###### 1. Create a Python class called BankAccount which represents a bank account, having as attributes: accountNumber (numeric type), name (name of the account owner as string type), balance.\n",
    "###### 2. Create a constructor with parameters: accountNumber, name, balance.\n",
    "###### 3. Create a Deposit () method which manages the deposit actions.\n",
    "###### 4. Create a Withdrawal () method which manages withdrawals actions.\n",
    "###### 5. Create an bankFees () method to apply the bank fees with a percentage of 5% of the balance account.\n",
    "###### 6. Create a display () method to display account details. Give the complete code for the BankAccount class."
   ]
  },
  {
   "cell_type": "code",
   "execution_count": 31,
   "id": "037c64b6-dda7-4da7-83f5-658fa5ed8b80",
   "metadata": {},
   "outputs": [
    {
     "name": "stdout",
     "output_type": "stream",
     "text": [
      "Name : Anurag\n",
      "AccontNumber : 1234\n",
      "Balance : 78000\n"
     ]
    }
   ],
   "source": [
    "class BankAccount:\n",
    "\n",
    "    def __init__(self,accountNumber,name,balance):\n",
    "        self.accountNumber = accountNumber\n",
    "        self.name = name\n",
    "        self.balance = balance\n",
    "\n",
    "    def user_deposit(self,deposit_amount):\n",
    "\n",
    "            self.balance = self.balance + deposit_amount\n",
    "            return self.balance\n",
    "       \n",
    "    def user_withdrawal(self,withdrawal_amount):\n",
    "\n",
    "                self.balance = self.balance - withdrawal_amount\n",
    "                return self.balance\n",
    "\n",
    "    def bank_fees(self):\n",
    "        print(\"For using our Bank Services we've charged a little bit of amount\")\n",
    "        charges = self.balance - 0.05*self.balance\n",
    "        self.balane = self.balance - charges\n",
    "\n",
    "    def display_details(self):\n",
    "        print(f\"Name : {self.name}\")\n",
    "        print(f\"AccontNumber : {self.accountNumber}\")\n",
    "        print(f\"Balance : {self.balance}\")\n",
    "        \n",
    "obj = BankAccount(1234,\"Anurag\",75000)\n",
    "obj.user_withdrawal(10000)\n",
    "obj.user_deposit(13000)\n",
    "obj.display_details()"
   ]
  },
  {
   "cell_type": "code",
   "execution_count": null,
   "id": "3546d7c5-91b8-42ec-bdf1-08132d6a0e26",
   "metadata": {},
   "outputs": [],
   "source": []
  },
  {
   "cell_type": "markdown",
   "id": "84596c5f-a02d-4a39-a2e2-be86adc27f06",
   "metadata": {},
   "source": [
    "##### Que: 03 Computation Class"
   ]
  },
  {
   "cell_type": "markdown",
   "id": "42c6b96c-90f2-4b43-9776-98d5e794acd8",
   "metadata": {},
   "source": [
    "###### 1.Create a Computation class with a default constructor (without parameters) allowing to perform various calculations on integers numbers.\n",
    "###### 2.Create a method called Factorial() which allows to calculate the factorial of an integer n. Integer n as parameter for this method\n",
    "###### 3.Create a method called naturalSum() allowing to calculate the sum of the first n integers 1 + 2 +3+...+n. Integer n as parameter for this method.\n",
    "###### 4. Create a method called testPrime() in the Calculation class to test the primality of a given integer n, n is Prime or Not? Integer n as parameter for this method.\n",
    "###### 5. Create a method called testPrims() allowing to test if two numbers are prime between them. Two integers are prime to one another if they have only 1 as their common divisor. Eg. 4 and 9 are prime to each other.\n",
    "###### 6. Create a tableMult() method which creates and displays the multiplication table of a given integer. Then create an allTablesMult() method to display all the integer multiplication tables 1, 2, 3, ..., 9.\n",
    "###### 7. Create a static listDiv() method that gets all the divisors of a given integer on new list called Ldiv. Create another listDivPrim() method that gets all the prime divisors of a given integer."
   ]
  },
  {
   "cell_type": "code",
   "execution_count": 7,
   "id": "a728d551-1a64-4c54-acda-6a491a5cae29",
   "metadata": {},
   "outputs": [
    {
     "name": "stdout",
     "output_type": "stream",
     "text": [
      "0\n",
      "1\n",
      "1\n",
      "2\n",
      "3\n",
      "5\n",
      "8\n",
      "13\n",
      "15.0\n",
      "Prime no \n",
      "8 and 12 are NOT prime to each other. \n",
      "7 * 1 = 7\n",
      "7 * 2 = 14\n",
      "7 * 3 = 21\n",
      "7 * 4 = 28\n",
      "7 * 5 = 35\n",
      "7 * 6 = 42\n",
      "7 * 7 = 49\n",
      "7 * 8 = 56\n",
      "7 * 9 = 63\n",
      "7 * 10 = 70\n",
      "1 = [1, 2, 3, 4, 5, 6, 7, 8, 9, 10]\n",
      "2 = [2, 4, 6, 8, 10, 12, 14, 16, 18, 20]\n",
      "3 = [3, 6, 9, 12, 15, 18, 21, 24, 27, 30]\n",
      "4 = [4, 8, 12, 16, 20, 24, 28, 32, 36, 40]\n",
      "5 = [5, 10, 15, 20, 25, 30, 35, 40, 45, 50]\n",
      "6 = [6, 12, 18, 24, 30, 36, 42, 48, 54, 60]\n",
      "7 = [7, 14, 21, 28, 35, 42, 49, 56, 63, 70]\n",
      "8 = [8, 16, 24, 32, 40, 48, 56, 64, 72, 80]\n",
      "9 = [9, 18, 27, 36, 45, 54, 63, 72, 81, 90]\n"
     ]
    },
    {
     "data": {
      "text/plain": [
       "[2]"
      ]
     },
     "execution_count": 7,
     "metadata": {},
     "output_type": "execute_result"
    }
   ],
   "source": [
    "import math\n",
    "class Computation:\n",
    "    \n",
    "\n",
    "    #Constructor\n",
    "    def __init__(self):\n",
    "        self.num = \"\"\n",
    "        \n",
    "\n",
    "    def factorial(self,n):\n",
    "        a,b = 0,1\n",
    "        for i in range(n):\n",
    "            print(a)\n",
    "            a,b = b,a+b\n",
    "            \n",
    "\n",
    "    def natural_Sum(self,m):\n",
    "        sum = (m*(m+1))/2\n",
    "        print(sum)  \n",
    "\n",
    "    def test_Prime(self,n):\n",
    "\n",
    "        if n<=1: \n",
    "           return \"Nether Prime nor Composite\"\n",
    "        for i in range(2,n):\n",
    "            if n % i == 0:\n",
    "                print(\"Not a prime ...\")\n",
    "        print(\"Prime no \")\n",
    "\n",
    "    def test_Prims(self,m,n):\n",
    "        if math.gcd(m,n) == 1:\n",
    "            print(f\"{m} and {n} are prime to each other .\")\n",
    "        else:\n",
    "            print(f\"{m} and {n} are NOT prime to each other. \")\n",
    "\n",
    "    def table_Multi(self,n):\n",
    "        for i in range(1,11):\n",
    "            print(f\"{n} * {i} = {n*i}\")\n",
    "\n",
    "    def all_table_multi(self):\n",
    "        for i in range(1,10):\n",
    "            table = [i*j for j in range(1,11)]\n",
    "            print(f\"{i} = {table}\")\n",
    "\n",
    "    @staticmethod\n",
    "    def listDiv(n):\n",
    "        Ldiv = [i for i in range(1, n + 1) if n % i == 0]\n",
    "        return Ldiv\n",
    "\n",
    "    @staticmethod\n",
    "    def listDivPrim(n):\n",
    "        def is_prime(x):\n",
    "            if x < 2:\n",
    "                return False\n",
    "            for i in range(2, int(x**0.5) + 1):\n",
    "                if x % i == 0:\n",
    "                    return False\n",
    "            return True\n",
    "\n",
    "        Ldiv = Computation.listDiv(n)\n",
    "        Lprim = [d for d in Ldiv if is_prime(d)]\n",
    "        return Lprim\n",
    "\n",
    "        \n",
    "            \n",
    "        \n",
    "\n",
    "obj = Computation()\n",
    "obj.factorial(8)\n",
    "obj.natural_Sum(5)\n",
    "obj.test_Prime(7)\n",
    "obj.test_Prims(8,12)\n",
    "obj.table_Multi(7)\n",
    "obj.all_table_multi()\n",
    "obj.listDiv(4)\n",
    "obj.listDivPrim(16)"
   ]
  },
  {
   "cell_type": "code",
   "execution_count": null,
   "id": "1ad4e380-2c9b-4b17-8077-da289a5e5170",
   "metadata": {},
   "outputs": [],
   "source": []
  }
 ],
 "metadata": {
  "kernelspec": {
   "display_name": "Python 3 (ipykernel)",
   "language": "python",
   "name": "python3"
  },
  "language_info": {
   "codemirror_mode": {
    "name": "ipython",
    "version": 3
   },
   "file_extension": ".py",
   "mimetype": "text/x-python",
   "name": "python",
   "nbconvert_exporter": "python",
   "pygments_lexer": "ipython3",
   "version": "3.12.7"
  }
 },
 "nbformat": 4,
 "nbformat_minor": 5
}
