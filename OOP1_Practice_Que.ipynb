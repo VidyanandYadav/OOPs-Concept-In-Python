{
 "cells": [
  {
   "cell_type": "markdown",
   "id": "6884eaf2-2e9c-4292-ab51-98612d0169a7",
   "metadata": {},
   "source": [
    "### Practice Question"
   ]
  },
  {
   "cell_type": "markdown",
   "id": "94b2711d-3bcf-4842-b6e4-f4bb9189d087",
   "metadata": {},
   "source": [
    "##### Que:01 Rectangle Class"
   ]
  },
  {
   "cell_type": "markdown",
   "id": "0979eaae-c229-4d6f-a870-33f09d80323e",
   "metadata": {},
   "source": [
    "###### 1.Write a Rectangle class in Python language, allowing you to build a rectangle with length and width attributes.\n",
    "###### 2.Create a Perimeter() method to calculate the perimeter of the rectangle and a Area() method to calculate the area of ​​the rectangle.\n",
    "###### 3.Create a method display() that display the length, width, perimeter and area of an object created using an instantiation on rectangle class."
   ]
  },
  {
   "cell_type": "code",
   "execution_count": null,
   "id": "b699b5ea-2453-468e-9457-6a8a35188e93",
   "metadata": {},
   "outputs": [],
   "source": []
  },
  {
   "cell_type": "code",
   "execution_count": 10,
   "id": "fd5777a6-4cf6-493f-bdb8-dc5b1ec55518",
   "metadata": {},
   "outputs": [
    {
     "name": "stdout",
     "output_type": "stream",
     "text": [
      "Length : 10\n",
      "Width : 5\n",
      "Area : 50\n",
      "Perimeter : 30\n"
     ]
    }
   ],
   "source": [
    "class Rectangle:\n",
    "    \n",
    "    def __init__(self,length,width):\n",
    "        self.length = length\n",
    "        self.width = width\n",
    "\n",
    "    def calc_peri(self):\n",
    "        return 2 * (self.length + self.width)\n",
    "\n",
    "    def calc_area(self):\n",
    "        return self.length*self.width\n",
    "\n",
    "    def display_details(self):\n",
    "        print(f\"Length : {self.length}\")\n",
    "        print(f\"Width : {self.width}\")\n",
    "        print(f\"Area : {self.calc_area()}\")\n",
    "        print(f\"Perimeter : {self.calc_peri()}\")\n",
    "\n",
    "obj = Rectangle(10,5)\n",
    "obj.display_details()"
   ]
  },
  {
   "cell_type": "markdown",
   "id": "edd0acf5-ab35-4833-bfef-3ac969c4ddba",
   "metadata": {},
   "source": [
    "##### Que: 02 Bank Class"
   ]
  },
  {
   "cell_type": "markdown",
   "id": "c0169978-9876-4597-a75b-5536960a10fa",
   "metadata": {},
   "source": [
    "###### 1. Create a Python class called BankAccount which represents a bank account, having as attributes: accountNumber (numeric type), name (name of the account owner as string type), balance.\n",
    "###### 2. Create a constructor with parameters: accountNumber, name, balance.\n",
    "###### 3. Create a Deposit () method which manages the deposit actions.\n",
    "###### 4. Create a Withdrawal () method which manages withdrawals actions.\n",
    "###### 5. Create an bankFees () method to apply the bank fees with a percentage of 5% of the balance account.\n",
    "###### 6. Create a display () method to display account details. Give the complete code for the BankAccount class."
   ]
  },
  {
   "cell_type": "code",
   "execution_count": 31,
   "id": "037c64b6-dda7-4da7-83f5-658fa5ed8b80",
   "metadata": {},
   "outputs": [
    {
     "name": "stdout",
     "output_type": "stream",
     "text": [
      "Name : Anurag\n",
      "AccontNumber : 1234\n",
      "Balance : 78000\n"
     ]
    }
   ],
   "source": [
    "class BankAccount:\n",
    "\n",
    "    def __init__(self,accountNumber,name,balance):\n",
    "        self.accountNumber = accountNumber\n",
    "        self.name = name\n",
    "        self.balance = balance\n",
    "\n",
    "    def user_deposit(self,deposit_amount):\n",
    "        \n",
    "        # user_account_no = input(\"Enter your A/C no : \")\n",
    "        # if user_account_no == self.accountNumber:\n",
    "        #     deposit_amount = input(\"Enter the amount to be deposit : \")\n",
    "            self.balance = self.balance + deposit_amount\n",
    "            return self.balance\n",
    "        # else:\n",
    "        #     print(\"A/C does not exist !!!!\")\n",
    "            \n",
    "\n",
    "    def user_withdrawal(self,withdrawal_amount):\n",
    "        \n",
    "        # user_account_no = input(\"Enter your A/C no : \")\n",
    "        # if user_account_no == self.accountNumber:\n",
    "        #     withdrawal_amount = input(\"Enter the amount to be deposit : \")\n",
    "            \n",
    "        #     if withdrawal_amount <= self.balance:\n",
    "                self.balance = self.balance - withdrawal_amount\n",
    "                return self.balance\n",
    "        #     else:\n",
    "        #         print(\"Saale Garib !!\")\n",
    "        # else:\n",
    "        #     print(\"A/C does not exist !!!!\")\n",
    "\n",
    "    def bank_fees(self):\n",
    "        print(\"For using our Bank Services we've charged a little bit of amount\")\n",
    "        charges = self.balance - 0.05*self.balance\n",
    "        self.balane = self.balance - charges\n",
    "\n",
    "    def display_details(self):\n",
    "        print(f\"Name : {self.name}\")\n",
    "        print(f\"AccontNumber : {self.accountNumber}\")\n",
    "        print(f\"Balance : {self.balance}\")\n",
    "        \n",
    "obj = BankAccount(1234,\"Anurag\",75000)\n",
    "obj.user_withdrawal(10000)\n",
    "obj.user_deposit(13000)\n",
    "obj.display_details()"
   ]
  },
  {
   "cell_type": "code",
   "execution_count": null,
   "id": "3546d7c5-91b8-42ec-bdf1-08132d6a0e26",
   "metadata": {},
   "outputs": [],
   "source": []
  }
 ],
 "metadata": {
  "kernelspec": {
   "display_name": "Python 3 (ipykernel)",
   "language": "python",
   "name": "python3"
  },
  "language_info": {
   "codemirror_mode": {
    "name": "ipython",
    "version": 3
   },
   "file_extension": ".py",
   "mimetype": "text/x-python",
   "name": "python",
   "nbconvert_exporter": "python",
   "pygments_lexer": "ipython3",
   "version": "3.12.7"
  }
 },
 "nbformat": 4,
 "nbformat_minor": 5
}
