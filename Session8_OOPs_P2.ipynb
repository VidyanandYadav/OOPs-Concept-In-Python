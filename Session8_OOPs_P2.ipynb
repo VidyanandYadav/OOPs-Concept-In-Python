{
 "cells": [
  {
   "cell_type": "markdown",
   "id": "420c5780-b704-4a18-8328-bd498d2f002b",
   "metadata": {},
   "source": [
    "### OOPs Part 2"
   ]
  },
  {
   "cell_type": "markdown",
   "id": "3d897104-53ad-450b-9631-bde280d1e7c7",
   "metadata": {},
   "source": [
    "##### Write OOP classes to handle the following scenarios:\n",
    "###### 1.A user can create and view 2D coordinates\n",
    "###### 2.A user can find out the distance between 2 coordinates\n",
    "###### 3.A user can find find the distance of a coordinate from origin\n",
    "###### 4.A user can check if a point lies on a given line\n",
    "###### 5.A user can find the distance between a given 2D point and a given line"
   ]
  },
  {
   "cell_type": "code",
   "execution_count": 1,
   "id": "07574978-39f5-4a1d-8aab-17a3e10ee925",
   "metadata": {},
   "outputs": [],
   "source": [
    "#NOTE: Here we will make more than 1 class i.e for here 2 and let see how they interact each other "
   ]
  },
  {
   "cell_type": "code",
   "execution_count": 54,
   "id": "903767c3-6923-4962-975e-1633e42e48f9",
   "metadata": {},
   "outputs": [],
   "source": [
    "class Point:\n",
    "    def __init__(self,x,y):\n",
    "        self.x_cord = x\n",
    "        self.y_cord = y\n",
    "\n",
    "# using str method -->> to print how my object will look\n",
    "    def __str__(self):\n",
    "        return \"<{},{}>\".format(self.x_cord,self.y_cord)\n",
    "\n",
    "# A user can find out the distance between 2 coordinates\n",
    "    def euclidean_distance(self,other):\n",
    "        return ((self.x_cord - other.y_cord)**2 + (self.y_cord - other.y_cord)**2)**0.5\n",
    "\n",
    "# 3. A user can find find the distance of a coordinate from origin\n",
    "    def distance_from_origin(self):\n",
    "        return self.euclidean_distance(Point(0,0))\n",
    "        # or return (self.x_cord**2 + self.y_cord**2)**0.5\n",
    "\n",
    "\n",
    "# 4. A user can find the given point lies on line or not\n",
    "class Line:\n",
    "\n",
    "    #constructor -->> A,B,C bcz eqn of line is Ax+By+C = 0\n",
    "    def __init__(self,A,B,C):\n",
    "        self.A = A\n",
    "        self.B = B\n",
    "        self.C = C\n",
    "        \n",
    "    #magic method to print how my object looks \n",
    "    def __str__(self):\n",
    "        return \"{}x+{}y+({}) = 0\".format(self.A,self.B,self.C)\n",
    "\n",
    "    def point_on_line(line,point): #you can take (self,other) or anything else as two parameter\n",
    "        if line.A*point.x_cord + line.B*point.y_cord + line.C == 0:\n",
    "            return \"Point lies on the given line\"\n",
    "        else:\n",
    "            return \"Point doesn't lies on given line\"\n",
    "\n",
    "        # if hum.A*tum.x_cord + hum.B*tum.y_cord + hum.C == 0:\n",
    "        #     return \"Point lies on the given line\"\n",
    "        # else:\n",
    "        #     return \"Point doesn't lies on given line\"\n",
    "\n",
    "\n",
    "    # 5.A user can find the distance between a given 2D point and a given line\n",
    "    def shortest_distance(line,point):\n",
    "        return abs(line.A*point.x_cord + line.B*point.y_cord + line.C)/(line.A**2 + line.B**2)\n",
    "\n",
    "# two line intersect or not ???\n"
   ]
  },
  {
   "cell_type": "code",
   "execution_count": 55,
   "id": "d7c856b9-b04f-4367-b1ab-f1e56555e5e4",
   "metadata": {},
   "outputs": [
    {
     "data": {
      "text/plain": [
       "1.4142135623730951"
      ]
     },
     "execution_count": 55,
     "metadata": {},
     "output_type": "execute_result"
    }
   ],
   "source": [
    "p1 = Point(0,0)\n",
    "p2 = Point(1,1)\n",
    "p1.euclidean_distance(p2)\n"
   ]
  },
  {
   "cell_type": "code",
   "execution_count": 56,
   "id": "95b628eb-4001-4bef-b59b-27c7fd65d44e",
   "metadata": {},
   "outputs": [
    {
     "data": {
      "text/plain": [
       "0.0"
      ]
     },
     "execution_count": 56,
     "metadata": {},
     "output_type": "execute_result"
    }
   ],
   "source": [
    "p1.distance_from_origin()"
   ]
  },
  {
   "cell_type": "code",
   "execution_count": 57,
   "id": "7b5a2f13-2d2e-4723-830c-eb2c63c6b866",
   "metadata": {},
   "outputs": [
    {
     "name": "stdout",
     "output_type": "stream",
     "text": [
      "1x+1y+(-2) = 0\n",
      "<1,2>\n"
     ]
    },
    {
     "data": {
      "text/plain": [
       "\"Point doesn't lies on given line\""
      ]
     },
     "execution_count": 57,
     "metadata": {},
     "output_type": "execute_result"
    }
   ],
   "source": [
    "l1 = Line(1,1,-2)\n",
    "p1 = Point(1,2)\n",
    "print(l1)\n",
    "print(p1)\n",
    "l1.point_on_line(p1)"
   ]
  },
  {
   "cell_type": "code",
   "execution_count": 58,
   "id": "d7ba6cbe-34b3-40d9-a093-a200d814ac82",
   "metadata": {},
   "outputs": [
    {
     "name": "stdout",
     "output_type": "stream",
     "text": [
      "1x+1y+(-2) = 0\n",
      "<1,1>\n"
     ]
    },
    {
     "data": {
      "text/plain": [
       "'Point lies on the given line'"
      ]
     },
     "execution_count": 58,
     "metadata": {},
     "output_type": "execute_result"
    }
   ],
   "source": [
    "l1 = Line(1,1,-2)\n",
    "p1 = Point(1,1)\n",
    "print(l1)\n",
    "print(p1)\n",
    "l1.point_on_line(p1)"
   ]
  },
  {
   "cell_type": "code",
   "execution_count": 59,
   "id": "61b54cdf-37e8-4272-a44c-661b81fedae4",
   "metadata": {},
   "outputs": [
    {
     "name": "stdout",
     "output_type": "stream",
     "text": [
      "1x+1y+(-2) = 0\n",
      "<1,1>\n"
     ]
    },
    {
     "data": {
      "text/plain": [
       "0.0"
      ]
     },
     "execution_count": 59,
     "metadata": {},
     "output_type": "execute_result"
    }
   ],
   "source": [
    "#as this point is lies on line so shortest distance would be zero hence our code works\n",
    "l1 = Line(1,1,-2)\n",
    "p1 = Point(1,1)\n",
    "print(l1)\n",
    "print(p1)\n",
    "l1.shortest_distance(p1)"
   ]
  },
  {
   "cell_type": "code",
   "execution_count": 60,
   "id": "59176f78-0ed4-4a9c-85e7-15b2cb843250",
   "metadata": {},
   "outputs": [
    {
     "name": "stdout",
     "output_type": "stream",
     "text": [
      "1x+1y+(-2) = 0\n",
      "<10,12>\n"
     ]
    },
    {
     "data": {
      "text/plain": [
       "10.0"
      ]
     },
     "execution_count": 60,
     "metadata": {},
     "output_type": "execute_result"
    }
   ],
   "source": [
    "l1 = Line(1,1,-2)\n",
    "p1 = Point(10,12)\n",
    "print(l1)\n",
    "print(p1)\n",
    "l1.shortest_distance(p1)"
   ]
  },
  {
   "cell_type": "markdown",
   "id": "7b1ce971-66df-450e-b172-c16c7e3f7d34",
   "metadata": {},
   "source": [
    "##### How objects access attributes"
   ]
  },
  {
   "cell_type": "code",
   "execution_count": 69,
   "id": "d41de7d8-00cc-40cf-855f-5505fc039d10",
   "metadata": {},
   "outputs": [],
   "source": [
    "class Person:\n",
    "    \n",
    "    def __init__(self,name_input,country_input):\n",
    "        self.name = name_input\n",
    "        self.country = country_input\n",
    "\n",
    "    def greet(self):\n",
    "        if self.country == \"India\":\n",
    "            print(\"Namaste\",self.name)\n",
    "        else:\n",
    "            print(\"Hello\",self.name)\n",
    "\n",
    "        "
   ]
  },
  {
   "cell_type": "code",
   "execution_count": 70,
   "id": "57b80738-1da6-49ae-9d5e-a936b86f2b2b",
   "metadata": {},
   "outputs": [],
   "source": [
    "# How to access attributes\n",
    "p = Person(\"Nitish\",\"India\")"
   ]
  },
  {
   "cell_type": "code",
   "execution_count": 71,
   "id": "f07d7429-479b-4a90-a038-429accb3c485",
   "metadata": {},
   "outputs": [
    {
     "data": {
      "text/plain": [
       "'Nitish'"
      ]
     },
     "execution_count": 71,
     "metadata": {},
     "output_type": "execute_result"
    }
   ],
   "source": [
    "p.name"
   ]
  },
  {
   "cell_type": "code",
   "execution_count": 72,
   "id": "ab16e724-7cb6-4c51-8cac-19c40aef6a17",
   "metadata": {},
   "outputs": [
    {
     "ename": "AttributeError",
     "evalue": "'Person' object has no attribute 'gender'",
     "output_type": "error",
     "traceback": [
      "\u001b[1;31m---------------------------------------------------------------------------\u001b[0m",
      "\u001b[1;31mAttributeError\u001b[0m                            Traceback (most recent call last)",
      "Cell \u001b[1;32mIn[72], line 1\u001b[0m\n\u001b[1;32m----> 1\u001b[0m p\u001b[38;5;241m.\u001b[39mgender\n",
      "\u001b[1;31mAttributeError\u001b[0m: 'Person' object has no attribute 'gender'"
     ]
    }
   ],
   "source": [
    "p.gender\n",
    "# since gender is not present it shows error but we can create attributes\n",
    "#outside the class let's see beloe"
   ]
  },
  {
   "cell_type": "code",
   "execution_count": 73,
   "id": "9bcb55a7-35c1-4b6c-ad98-69957ec637c8",
   "metadata": {},
   "outputs": [
    {
     "name": "stdout",
     "output_type": "stream",
     "text": [
      "Namaste Nitish\n"
     ]
    }
   ],
   "source": [
    "# How to access methods\n",
    "p.greet()"
   ]
  },
  {
   "cell_type": "markdown",
   "id": "548fb423-cb03-4066-becc-dd3be5cabc45",
   "metadata": {},
   "source": [
    "###### Attribute creation from outside of the class"
   ]
  },
  {
   "cell_type": "code",
   "execution_count": 74,
   "id": "d75abfaa-febc-47c2-a608-cd8a0fd9dba1",
   "metadata": {},
   "outputs": [],
   "source": [
    "p.gender = \"Male\""
   ]
  },
  {
   "cell_type": "code",
   "execution_count": 75,
   "id": "079bd085-9286-458b-b978-9549f859a0ef",
   "metadata": {},
   "outputs": [
    {
     "data": {
      "text/plain": [
       "'Male'"
      ]
     },
     "execution_count": 75,
     "metadata": {},
     "output_type": "execute_result"
    }
   ],
   "source": [
    "# Now you can call attributes named gender\n",
    "p.gender"
   ]
  },
  {
   "cell_type": "code",
   "execution_count": null,
   "id": "3c31a450-de9b-4ea5-bdc1-cd5a64881c29",
   "metadata": {},
   "outputs": [],
   "source": []
  },
  {
   "cell_type": "markdown",
   "id": "6a1426a5-4dab-46b8-a8c1-228dfa2aae05",
   "metadata": {},
   "source": [
    "##### Reference Variables"
   ]
  },
  {
   "cell_type": "markdown",
   "id": "88a65fb4-52ee-4f66-a374-531a75c0fbee",
   "metadata": {},
   "source": [
    "###### .Reference variables hold the objects\n",
    "###### . We can create objects without reference variable as well\n",
    "###### . An object can have multiple reference variables\n",
    "###### . Assigning a new reference variable to an existing object does not create a new object"
   ]
  },
  {
   "cell_type": "code",
   "execution_count": 84,
   "id": "cc614523-2f0a-4915-9eb9-499ae47c11ec",
   "metadata": {},
   "outputs": [],
   "source": [
    "# object without a refernce\n",
    "class Person:\n",
    "    def __init__(self):\n",
    "        self.name = \"Nitish\"\n",
    "        self.gender = \"Male\"\n",
    "\n",
    "p = Person()\n",
    "q = p\n",
    "# p = Person()-->> Till now we knew that we are creating an object by calling a class Person but \n",
    "# technically it's not correct bcz correct is by calling a class Person an object is created whose \n",
    "# memory  address is stored in the variable called p i.e also called refernce variable \n",
    "\n"
   ]
  },
  {
   "cell_type": "markdown",
   "id": "5354bd21-71ad-480a-8bae-9d046cfe579e",
   "metadata": {},
   "source": [
    "###### Finally -->> p is not an object but it is a reference variable which have the address of object in p = classname()"
   ]
  },
  {
   "cell_type": "code",
   "execution_count": 85,
   "id": "e64f09f1-29cf-4aab-a0e9-2edd46658e52",
   "metadata": {},
   "outputs": [],
   "source": [
    "# we can create object without a reference variable as well"
   ]
  },
  {
   "cell_type": "code",
   "execution_count": 86,
   "id": "296fce7e-19c4-40b0-9789-5d43dcd08326",
   "metadata": {},
   "outputs": [
    {
     "data": {
      "text/plain": [
       "<__main__.Person at 0x24d092a9400>"
      ]
     },
     "execution_count": 86,
     "metadata": {},
     "output_type": "execute_result"
    }
   ],
   "source": [
    "Person()"
   ]
  },
  {
   "cell_type": "code",
   "execution_count": 87,
   "id": "b7c4625d-a514-4017-b341-668577f3d664",
   "metadata": {},
   "outputs": [
    {
     "name": "stdout",
     "output_type": "stream",
     "text": [
      "2529873249680\n",
      "2529873249680\n"
     ]
    }
   ],
   "source": [
    "# here both p and q have same address of id bcz 1stly p obj k add ko point kr rha tha now q-->> p ko\n",
    "print(id(p))\n",
    "print(id(q))"
   ]
  },
  {
   "cell_type": "code",
   "execution_count": 88,
   "id": "e7ef527d-2ccf-4989-afdf-b1fee4177e2b",
   "metadata": {},
   "outputs": [
    {
     "name": "stdout",
     "output_type": "stream",
     "text": [
      "Nitish\n",
      "Nitish\n"
     ]
    }
   ],
   "source": [
    "# same output bcz both are pointing at same\n",
    "print(p.name)\n",
    "print(q.name)"
   ]
  },
  {
   "cell_type": "code",
   "execution_count": 89,
   "id": "00bc4f5e-11fc-456e-8cdd-5f0a7ea1c600",
   "metadata": {},
   "outputs": [],
   "source": [
    "# change attribute value with the help of 2nd object"
   ]
  },
  {
   "cell_type": "code",
   "execution_count": 90,
   "id": "479f4138-fa37-43b6-b414-71c11d2285a3",
   "metadata": {},
   "outputs": [
    {
     "name": "stdout",
     "output_type": "stream",
     "text": [
      "Ankit\n",
      "Ankit\n"
     ]
    }
   ],
   "source": [
    "q.name = \"Ankit\"\n",
    "print(q.name)\n",
    "print(p.name)"
   ]
  },
  {
   "cell_type": "code",
   "execution_count": null,
   "id": "bb9ba1bd-d477-439e-85f0-43c5e36a0015",
   "metadata": {},
   "outputs": [],
   "source": []
  },
  {
   "cell_type": "markdown",
   "id": "4d6deac3-f14a-46a5-ac77-c8a2ba1eeb7b",
   "metadata": {},
   "source": [
    "##### Pass By Reference"
   ]
  },
  {
   "cell_type": "code",
   "execution_count": 93,
   "id": "9723b906-f380-4978-a797-3aff46f6a81b",
   "metadata": {},
   "outputs": [
    {
     "name": "stdout",
     "output_type": "stream",
     "text": [
      "Hi my name is  Nitish and i am a Male\n",
      "Hi my name is  Nitish and i am a Male\n",
      "Ankit\n",
      "Male\n"
     ]
    }
   ],
   "source": [
    "class Person:\n",
    "\n",
    "    def __init__(self,name,gender):\n",
    "        self.name = name\n",
    "        self.gender = gender\n",
    "\n",
    "# Outside the class -->> Hence it is a function but not a method\n",
    "def greet(person):\n",
    "    print(\"Hi my name is \", person.name,\"and i am a\",person.gender)\n",
    "    # Also ham function se object ko return kr sakte hain by this below:\n",
    "    p1 = Person(\"Ankit\",\"Male\")\n",
    "    return p1\n",
    "\n",
    "p = Person(\"Nitish\",\"Male\")\n",
    "greet(p)\n",
    "# The main catch is that -->> here ek function ko ham input me class ka object diye \n",
    "# instead of int,float,list etc\n",
    "x = greet(p)\n",
    "print(x.name)\n",
    "print(x.gender)\n"
   ]
  },
  {
   "cell_type": "markdown",
   "id": "4074ee3a-ffc2-42c2-b52f-e1f2791f5e4d",
   "metadata": {},
   "source": [
    "###### Here both have same address bcz ham object nahi bhej rahe bss uska reference bhej rahe hain and this is called pass by reference"
   ]
  },
  {
   "cell_type": "code",
   "execution_count": 95,
   "id": "a0eb8145-79c9-46af-bf8a-b5db0660dbfb",
   "metadata": {},
   "outputs": [
    {
     "name": "stdout",
     "output_type": "stream",
     "text": [
      "2529873262496\n",
      "2529873262496\n",
      "Hi my name is  Nitish and I am a Male\n"
     ]
    }
   ],
   "source": [
    "class Person:\n",
    "\n",
    "    def __init__(self,name,gender):\n",
    "        self.name = name\n",
    "        self.gender = gender\n",
    "\n",
    "# Outside the class -->> Hence it is a function but not a method\n",
    "def greet(person):\n",
    "    print(id(person))\n",
    "    print(\"Hi my name is \", person.name,\"and I am a\",person.gender)\n",
    "    \n",
    "\n",
    "p = Person(\"Nitish\",\"Male\")\n",
    "print(id(p))\n",
    "greet(p)\n"
   ]
  },
  {
   "cell_type": "code",
   "execution_count": 97,
   "id": "5340a59b-2386-49c5-a27a-80ee45cb6990",
   "metadata": {},
   "outputs": [
    {
     "name": "stdout",
     "output_type": "stream",
     "text": [
      "Ankit\n",
      "Ankit\n"
     ]
    }
   ],
   "source": [
    "# Another case to clear pass by reference\n",
    "class Person:\n",
    "\n",
    "    def __init__(self,name,gender):\n",
    "        self.name = name\n",
    "        self.gender = gender\n",
    "\n",
    "# Outside the class -->> Hence it is a function but not a method\n",
    "def greet(person):\n",
    "    person.name = \"Ankit\"\n",
    "    print(person.name)\n",
    "\n",
    "p = Person(\"Nitish\",\"Male\")\n",
    "greet(p)\n",
    "print(p.name)"
   ]
  },
  {
   "cell_type": "markdown",
   "id": "6265d5fa-e578-4a1d-bb3b-ba17673d085e",
   "metadata": {},
   "source": [
    "##### NOTE : All objects in Python are Mutable"
   ]
  },
  {
   "cell_type": "markdown",
   "id": "b58f5ecc-fbf7-4e3a-a6f1-02bb121f9ede",
   "metadata": {},
   "source": [
    "##### Object ki mutability"
   ]
  },
  {
   "cell_type": "code",
   "execution_count": 99,
   "id": "0e1830a7-ca07-4f5e-b10e-60c7baafe6d8",
   "metadata": {},
   "outputs": [
    {
     "name": "stdout",
     "output_type": "stream",
     "text": [
      "2529876046720\n",
      "2529876046720\n"
     ]
    }
   ],
   "source": [
    "# Another case to clear pass by reference\n",
    "class Person:\n",
    "\n",
    "    def __init__(self,name,gender):\n",
    "        self.name = name\n",
    "        self.gender = gender\n",
    "\n",
    "# Outside the class -->> Hence it is a function but not a method\n",
    "def greet(person):\n",
    "    person.name = \"Ankit\"\n",
    "    return person\n",
    "\n",
    "p = Person(\"Nitish\",\"Male\")\n",
    "print(id(p))\n",
    "p1 = greet(p)\n",
    "print(id(p1))\n"
   ]
  },
  {
   "cell_type": "markdown",
   "id": "60fc555b-8cc2-48ac-9aea-e24192f6c490",
   "metadata": {},
   "source": []
  },
  {
   "cell_type": "markdown",
   "id": "abebd212-10ce-4bc2-90f2-d91b1d35e4e3",
   "metadata": {},
   "source": [
    "#### Encapsulation"
   ]
  },
  {
   "cell_type": "code",
   "execution_count": 2,
   "id": "325f6563-04c0-43a0-a5dd-1d31e327c479",
   "metadata": {},
   "outputs": [],
   "source": [
    "# instance variable \n",
    "class Person:\n",
    "\n",
    "  def __init__(self,name_input,country_input):\n",
    "    self.name = name_input\n",
    "    self.country = country_input\n",
    "\n",
    "p1 = Person('nitish','india')\n",
    "p2 = Person('steve','australia')"
   ]
  },
  {
   "cell_type": "code",
   "execution_count": 3,
   "id": "5b90e348-7bc2-4eaa-a0cd-be7c7369a83d",
   "metadata": {},
   "outputs": [
    {
     "name": "stdout",
     "output_type": "stream",
     "text": [
      "nitish\n",
      "steve\n"
     ]
    }
   ],
   "source": [
    "# Here is a single variable (name) but by calling through p1 & p2 it gives \n",
    "# different output-->> this is called instance variable\n",
    "print(p1.name)\n",
    "print(p2.name)"
   ]
  },
  {
   "cell_type": "code",
   "execution_count": 12,
   "id": "a6d3c5b3-753a-45f7-91a0-f89bb9ffc6a6",
   "metadata": {},
   "outputs": [],
   "source": [
    " class Atm:\n",
    "    \n",
    "    # Constructor(It is a special function)-->>It have a special power i.e To execute the Program or code\n",
    "    #inside constructor you don't need to call the constructor explicitly as like other functions\n",
    "    def __init__(self):\n",
    "       self.pin = \"\"\n",
    "       self.balance = 0\n",
    "       self.menu()\n",
    "\n",
    "    def menu(self):\n",
    "        while True:\n",
    "            user_input = input(\"\"\"\n",
    "            Hi! How Can I help You ?\n",
    "            1.press 1 to create PIN\n",
    "            2.Press 2 to change PIN\n",
    "            3.Press 3 to Check Balance\n",
    "            4.Press 4 to withdraw\n",
    "            5.Anything else to Exit\n",
    "            \"\"\")\n",
    "            \n",
    "            if user_input == \"1\":\n",
    "                #create pin\n",
    "                self.create_pin()\n",
    "                \n",
    "            elif user_input == \"2\":\n",
    "                self.change_pin()\n",
    "                \n",
    "            elif user_input == \"3\":\n",
    "                self.check_balance()\n",
    "                \n",
    "            elif user_input == \"4\":\n",
    "                #withdraw\n",
    "                self.withdraw()\n",
    "    \n",
    "            else:\n",
    "                print(\"Thank you for using our ATM. Goodbye! 👋\")\n",
    "                break\n",
    "\n",
    "    def create_pin(self):\n",
    "        user_pin = input(\"Enter Your PIN : \")\n",
    "        self.pin = user_pin\n",
    "    \n",
    "        user_balance = int(input(\"Enter your Balance : \"))\n",
    "        self.balance = user_balance\n",
    "    \n",
    "        print(\"Your PIN Created Successfully \")\n",
    "        \n",
    "    def change_pin(self):        \n",
    "        old_pin = input(\"Enter Your Old Pin : \")\n",
    "        \n",
    "        if old_pin == self.pin:\n",
    "           #Let him change the PIN\n",
    "           new_pin = input(\"Enter Your new Pin : \")\n",
    "           self.pin = new_pin\n",
    "           print(\"Your PIN has been changed successfully \")\n",
    "        else:\n",
    "            print(\"nahi kar sakta re Baba !!\")\n",
    "\n",
    "    def check_balance(self):\n",
    "        user_pin = input(\"Enter your PIN : \")\n",
    "        if user_pin == self.pin:\n",
    "            print(\"Your available Balance is : \",self.balance)\n",
    "        else:\n",
    "            print(\"Chal Nikal Yahan Se...\")\n",
    "\n",
    "    def withdraw(self):\n",
    "        user_pin = input(\"Enter the PIN : \")\n",
    "        if user_pin == self.pin:\n",
    "            #allow to withdraw\n",
    "            amount = int(input(\"Enter the amount you want to withdraw : \"))\n",
    "            if amount <= self.balance:\n",
    "                self.balance = self.balance - amount\n",
    "                print(\"Withdrawal Successful.Your available Balance is : \",self.balance)\n",
    "            else:\n",
    "                print(\"Abbe Sale Garib !!! ??\")\n",
    "        else:\n",
    "            print(\"Your pwd is Incorrect !!!.. \")\n",
    "            "
   ]
  },
  {
   "cell_type": "markdown",
   "id": "e4ae4537-8631-4631-bce0-01af1909272d",
   "metadata": {},
   "source": [
    "###### Now lets see what is the need of Encapsulation"
   ]
  },
  {
   "cell_type": "code",
   "execution_count": 13,
   "id": "e6c777d3-1b6e-42b1-865c-4f2050526134",
   "metadata": {
    "scrolled": true
   },
   "outputs": [
    {
     "name": "stdin",
     "output_type": "stream",
     "text": [
      "\n",
      "           Hi! How Can I help You ?\n",
      "           1.press 1 to create PIN\n",
      "           2.Press 2 to change PIN\n",
      "           3.Press 3 to Check Balance\n",
      "           4.Press 4 to withdraw\n",
      "           5.Anything else to Exit\n",
      "            1\n",
      "Enter Your PIN :  1234\n",
      "Enter your Balance :  12000\n"
     ]
    },
    {
     "name": "stdout",
     "output_type": "stream",
     "text": [
      "Your PIN Created Successfully \n"
     ]
    },
    {
     "name": "stdin",
     "output_type": "stream",
     "text": [
      "\n",
      "           Hi! How Can I help You ?\n",
      "           1.press 1 to create PIN\n",
      "           2.Press 2 to change PIN\n",
      "           3.Press 3 to Check Balance\n",
      "           4.Press 4 to withdraw\n",
      "           5.Anything else to Exit\n",
      "            8\n"
     ]
    },
    {
     "name": "stdout",
     "output_type": "stream",
     "text": [
      "Thank you for using our ATM. Goodbye! 👋\n"
     ]
    }
   ],
   "source": [
    "new_atm = Atm()\n",
    "\n"
   ]
  },
  {
   "cell_type": "code",
   "execution_count": 14,
   "id": "6857621a-36cc-4d9c-98ec-839e3acb5a7a",
   "metadata": {},
   "outputs": [],
   "source": [
    "# Now any other programmer does some weird thing in your code and that is\n",
    "new_atm.balance = \"HEheheheh\""
   ]
  },
  {
   "cell_type": "code",
   "execution_count": 15,
   "id": "57bc1e57-b8f5-4ee4-97c8-ff484b92797c",
   "metadata": {},
   "outputs": [
    {
     "name": "stdin",
     "output_type": "stream",
     "text": [
      "Enter the PIN :  1234\n",
      "Enter the amount you want to withdraw :  5000\n"
     ]
    },
    {
     "ename": "TypeError",
     "evalue": "'<=' not supported between instances of 'int' and 'str'",
     "output_type": "error",
     "traceback": [
      "\u001b[1;31m---------------------------------------------------------------------------\u001b[0m",
      "\u001b[1;31mTypeError\u001b[0m                                 Traceback (most recent call last)",
      "Cell \u001b[1;32mIn[15], line 2\u001b[0m\n\u001b[0;32m      1\u001b[0m \u001b[38;5;66;03m# So when you call a method \u001b[39;00m\n\u001b[1;32m----> 2\u001b[0m new_atm\u001b[38;5;241m.\u001b[39mwithdraw()\n",
      "Cell \u001b[1;32mIn[12], line 71\u001b[0m, in \u001b[0;36mAtm.withdraw\u001b[1;34m(self)\u001b[0m\n\u001b[0;32m     68\u001b[0m \u001b[38;5;28;01mif\u001b[39;00m user_pin \u001b[38;5;241m==\u001b[39m \u001b[38;5;28mself\u001b[39m\u001b[38;5;241m.\u001b[39mpin:\n\u001b[0;32m     69\u001b[0m     \u001b[38;5;66;03m#allow to withdraw\u001b[39;00m\n\u001b[0;32m     70\u001b[0m     amount \u001b[38;5;241m=\u001b[39m \u001b[38;5;28mint\u001b[39m(\u001b[38;5;28minput\u001b[39m(\u001b[38;5;124m\"\u001b[39m\u001b[38;5;124mEnter the amount you want to withdraw : \u001b[39m\u001b[38;5;124m\"\u001b[39m))\n\u001b[1;32m---> 71\u001b[0m     \u001b[38;5;28;01mif\u001b[39;00m amount \u001b[38;5;241m<\u001b[39m\u001b[38;5;241m=\u001b[39m \u001b[38;5;28mself\u001b[39m\u001b[38;5;241m.\u001b[39mbalance:\n\u001b[0;32m     72\u001b[0m         \u001b[38;5;28mself\u001b[39m\u001b[38;5;241m.\u001b[39mbalance \u001b[38;5;241m=\u001b[39m \u001b[38;5;28mself\u001b[39m\u001b[38;5;241m.\u001b[39mbalance \u001b[38;5;241m-\u001b[39m amount\n\u001b[0;32m     73\u001b[0m         \u001b[38;5;28mprint\u001b[39m(\u001b[38;5;124m\"\u001b[39m\u001b[38;5;124mWithdrawal Successful.Your available Balance is : \u001b[39m\u001b[38;5;124m\"\u001b[39m,\u001b[38;5;28mself\u001b[39m\u001b[38;5;241m.\u001b[39mbalance)\n",
      "\u001b[1;31mTypeError\u001b[0m: '<=' not supported between instances of 'int' and 'str'"
     ]
    }
   ],
   "source": [
    "# So when you call a method \n",
    "new_atm.withdraw()\n",
    "# It will show error bcz withdraw is self.balance - amount to withdraw but balance is not more integer"
   ]
  },
  {
   "cell_type": "code",
   "execution_count": null,
   "id": "35f30d58-7958-4005-bd17-5381d7657446",
   "metadata": {},
   "outputs": [],
   "source": [
    "# This error is by changing balance ka datatype"
   ]
  },
  {
   "cell_type": "markdown",
   "id": "2f656040-ee5d-4e29-a96b-e2c835bcec8f",
   "metadata": {},
   "source": [
    "###### To avoid this-->> we can make it private variable or attributes so when you want to change then also it will not change\n",
    "##### To make private-->> 2*underscore before that which have to make private -->> at each place"
   ]
  },
  {
   "cell_type": "code",
   "execution_count": 21,
   "id": "c72fa6b0-5132-487c-b96b-87a5ca70b245",
   "metadata": {},
   "outputs": [],
   "source": [
    " class Atm:\n",
    "    \n",
    "    # Constructor(It is a special function)-->>It have a special power i.e To execute the Program or code\n",
    "    #inside constructor you don't need to call the constructor explicitly as like other functions\n",
    "    def __init__(self):\n",
    "       self.pin = \"\"\n",
    "       self.__balance = 0\n",
    "       self.menu()\n",
    "\n",
    "    def menu(self):\n",
    "        while True:\n",
    "            user_input = input(\"\"\"\n",
    "            Hi! How Can I help You ?\n",
    "            1.press 1 to create PIN\n",
    "            2.Press 2 to change PIN\n",
    "            3.Press 3 to Check Balance\n",
    "            4.Press 4 to withdraw\n",
    "            5.Anything else to Exit\n",
    "            \"\"\")\n",
    "            \n",
    "            if user_input == \"1\":\n",
    "                #create pin\n",
    "                self.create_pin()\n",
    "                \n",
    "            elif user_input == \"2\":\n",
    "                self.change_pin()\n",
    "                \n",
    "            elif user_input == \"3\":\n",
    "                self.check_balance()\n",
    "                \n",
    "            elif user_input == \"4\":\n",
    "                #withdraw\n",
    "                self.withdraw()\n",
    "    \n",
    "            else:\n",
    "                print(\"Thank you for using our ATM. Goodbye! 👋\")\n",
    "                break\n",
    "\n",
    "    def create_pin(self):\n",
    "        user_pin = input(\"Enter Your PIN : \")\n",
    "        self.pin = user_pin\n",
    "    \n",
    "        user_balance = int(input(\"Enter your Balance : \"))\n",
    "        self.__balance = user_balance\n",
    "    \n",
    "        print(\"Your PIN Created Successfully \")\n",
    "        \n",
    "    def change_pin(self):        \n",
    "        old_pin = input(\"Enter Your Old Pin : \")\n",
    "        \n",
    "        if old_pin == self.pin:\n",
    "           #Let him change the PIN\n",
    "           new_pin = input(\"Enter Your new Pin : \")\n",
    "           self.pin = new_pin\n",
    "           print(\"Your PIN has been changed successfully \")\n",
    "        else:\n",
    "            print(\"nahi kar sakta re Baba !!\")\n",
    "\n",
    "    def check_balance(self):\n",
    "        user_pin = input(\"Enter your PIN : \")\n",
    "        if user_pin == self.pin:\n",
    "            print(\"Your available Balance is : \",self.__balance)\n",
    "        else:\n",
    "            print(\"Chal Nikal Yahan Se...\")\n",
    "\n",
    "    def withdraw(self):\n",
    "        user_pin = input(\"Enter the PIN : \")\n",
    "        if user_pin == self.pin:\n",
    "            #allow to withdraw\n",
    "            amount = int(input(\"Enter the amount you want to withdraw : \"))\n",
    "            if amount <= self.__balance:\n",
    "                self.__balance = self.__balance - amount\n",
    "                print(\"Withdrawal Successful.Your available Balance is : \",self.__balance)\n",
    "            else:\n",
    "                print(\"Abbe Sale Garib !!! ??\")\n",
    "        else:\n",
    "            print(\"Your pwd is Incorrect !!!.. \")\n",
    "            "
   ]
  },
  {
   "cell_type": "code",
   "execution_count": 22,
   "id": "b4a64e86-43ea-48d9-b2ef-873cefee1089",
   "metadata": {},
   "outputs": [
    {
     "name": "stdin",
     "output_type": "stream",
     "text": [
      "\n",
      "           Hi! How Can I help You ?\n",
      "           1.press 1 to create PIN\n",
      "           2.Press 2 to change PIN\n",
      "           3.Press 3 to Check Balance\n",
      "           4.Press 4 to withdraw\n",
      "           5.Anything else to Exit\n",
      "            1\n",
      "Enter Your PIN :  1234\n",
      "Enter your Balance :  56000\n"
     ]
    },
    {
     "name": "stdout",
     "output_type": "stream",
     "text": [
      "Your PIN Created Successfully \n"
     ]
    },
    {
     "name": "stdin",
     "output_type": "stream",
     "text": [
      "\n",
      "           Hi! How Can I help You ?\n",
      "           1.press 1 to create PIN\n",
      "           2.Press 2 to change PIN\n",
      "           3.Press 3 to Check Balance\n",
      "           4.Press 4 to withdraw\n",
      "           5.Anything else to Exit\n",
      "            8\n"
     ]
    },
    {
     "name": "stdout",
     "output_type": "stream",
     "text": [
      "Thank you for using our ATM. Goodbye! 👋\n"
     ]
    }
   ],
   "source": [
    "new_atm = Atm()"
   ]
  },
  {
   "cell_type": "code",
   "execution_count": 23,
   "id": "f6c0ded2-64f8-4e9f-8df1-f59c06d7496f",
   "metadata": {},
   "outputs": [],
   "source": [
    "new_atm.__balance = \"Hehehehe\"\n",
    "# Then also it will not changes "
   ]
  },
  {
   "cell_type": "code",
   "execution_count": 25,
   "id": "ba4a116b-284c-47f2-a036-8dde537e99a9",
   "metadata": {},
   "outputs": [
    {
     "name": "stdin",
     "output_type": "stream",
     "text": [
      "Enter the PIN :  1234\n",
      "Enter the amount you want to withdraw :  3000\n"
     ]
    },
    {
     "name": "stdout",
     "output_type": "stream",
     "text": [
      "Withdrawal Successful.Your available Balance is :  49000\n"
     ]
    }
   ],
   "source": [
    "new_atm.withdraw()"
   ]
  },
  {
   "cell_type": "markdown",
   "id": "5d64631e-0ac7-4d00-a105-0f465881d270",
   "metadata": {},
   "source": [
    "##### That's great it means by making variable private -->> if you want to change variable datatype then also it will not change in main memory and you're done"
   ]
  },
  {
   "cell_type": "code",
   "execution_count": 26,
   "id": "682a6977-9e66-4731-a4fa-47786d137274",
   "metadata": {},
   "outputs": [],
   "source": [
    "new_atm._Atm__balance = \"Hehehehe\""
   ]
  },
  {
   "cell_type": "markdown",
   "id": "2814b797-779f-4882-b1bc-02693efa226e",
   "metadata": {},
   "source": [
    "###### Again there is also one way so that you can still change the private variable or attributes mentionedbelow and this is bcz Python says not anything is truly private"
   ]
  },
  {
   "cell_type": "code",
   "execution_count": 28,
   "id": "9dfe192b-f036-4386-8e6d-03a227c8c5c2",
   "metadata": {},
   "outputs": [
    {
     "name": "stdin",
     "output_type": "stream",
     "text": [
      "Enter the PIN :  1234\n",
      "Enter the amount you want to withdraw :  45565\n"
     ]
    },
    {
     "ename": "TypeError",
     "evalue": "'<=' not supported between instances of 'int' and 'str'",
     "output_type": "error",
     "traceback": [
      "\u001b[1;31m---------------------------------------------------------------------------\u001b[0m",
      "\u001b[1;31mTypeError\u001b[0m                                 Traceback (most recent call last)",
      "Cell \u001b[1;32mIn[28], line 1\u001b[0m\n\u001b[1;32m----> 1\u001b[0m new_atm\u001b[38;5;241m.\u001b[39mwithdraw()\n",
      "Cell \u001b[1;32mIn[21], line 71\u001b[0m, in \u001b[0;36mAtm.withdraw\u001b[1;34m(self)\u001b[0m\n\u001b[0;32m     68\u001b[0m \u001b[38;5;28;01mif\u001b[39;00m user_pin \u001b[38;5;241m==\u001b[39m \u001b[38;5;28mself\u001b[39m\u001b[38;5;241m.\u001b[39mpin:\n\u001b[0;32m     69\u001b[0m     \u001b[38;5;66;03m#allow to withdraw\u001b[39;00m\n\u001b[0;32m     70\u001b[0m     amount \u001b[38;5;241m=\u001b[39m \u001b[38;5;28mint\u001b[39m(\u001b[38;5;28minput\u001b[39m(\u001b[38;5;124m\"\u001b[39m\u001b[38;5;124mEnter the amount you want to withdraw : \u001b[39m\u001b[38;5;124m\"\u001b[39m))\n\u001b[1;32m---> 71\u001b[0m     \u001b[38;5;28;01mif\u001b[39;00m amount \u001b[38;5;241m<\u001b[39m\u001b[38;5;241m=\u001b[39m \u001b[38;5;28mself\u001b[39m\u001b[38;5;241m.\u001b[39m__balance:\n\u001b[0;32m     72\u001b[0m         \u001b[38;5;28mself\u001b[39m\u001b[38;5;241m.\u001b[39m__balance \u001b[38;5;241m=\u001b[39m \u001b[38;5;28mself\u001b[39m\u001b[38;5;241m.\u001b[39m__balance \u001b[38;5;241m-\u001b[39m amount\n\u001b[0;32m     73\u001b[0m         \u001b[38;5;28mprint\u001b[39m(\u001b[38;5;124m\"\u001b[39m\u001b[38;5;124mWithdrawal Successful.Your available Balance is : \u001b[39m\u001b[38;5;124m\"\u001b[39m,\u001b[38;5;28mself\u001b[39m\u001b[38;5;241m.\u001b[39m__balance)\n",
      "\u001b[1;31mTypeError\u001b[0m: '<=' not supported between instances of 'int' and 'str'"
     ]
    }
   ],
   "source": [
    "new_atm.withdraw()"
   ]
  },
  {
   "cell_type": "code",
   "execution_count": null,
   "id": "5476e5e8-94c4-4e2f-b4a2-cc10175797e6",
   "metadata": {},
   "outputs": [],
   "source": []
  },
  {
   "cell_type": "markdown",
   "id": "8249a628-8128-49d3-9eed-65048439179a",
   "metadata": {},
   "source": [
    "#### Finally, make sure that never make your data of class public -->> always make a habit of whenever you make data in your class make it private always"
   ]
  },
  {
   "cell_type": "markdown",
   "id": "f292c5e6-2be8-43e7-89f0-dfcb444947ae",
   "metadata": {},
   "source": [
    "###### Getter and Setter method"
   ]
  },
  {
   "cell_type": "code",
   "execution_count": 33,
   "id": "71e5fd0b-e425-46a0-91be-550e97d3e17f",
   "metadata": {},
   "outputs": [],
   "source": [
    " class Atm:\n",
    "     \n",
    "    def __init__(self):\n",
    "       self.pin = \"\"\n",
    "       self.__balance = 0\n",
    "       self.menu()\n",
    "\n",
    "    def get_balance(self):\n",
    "        return self.__balance\n",
    "\n",
    "    def set_balance(self,new_value):\n",
    "        if type(new_value) == int:\n",
    "            self.__balance = new_value\n",
    "        else:\n",
    "            print('beta bahot maarenge')\n",
    "\n",
    "\n",
    "    def menu(self):\n",
    "        while True:\n",
    "            user_input = input(\"\"\"\n",
    "            Hi! How Can I help You ?\n",
    "            1.press 1 to create PIN\n",
    "            2.Press 2 to change PIN\n",
    "            3.Press 3 to Check Balance\n",
    "            4.Press 4 to withdraw\n",
    "            5.Anything else to Exit\n",
    "            \"\"\")\n",
    "            \n",
    "            if user_input == \"1\":\n",
    "                #create pin\n",
    "                self.create_pin()\n",
    "                \n",
    "            elif user_input == \"2\":\n",
    "                self.change_pin()\n",
    "                \n",
    "            elif user_input == \"3\":\n",
    "                self.check_balance()\n",
    "                \n",
    "            elif user_input == \"4\":\n",
    "                #withdraw\n",
    "                self.withdraw()\n",
    "    \n",
    "            else:\n",
    "                print(\"Thank you for using our ATM. Goodbye! 👋\")\n",
    "                break\n",
    "\n",
    "    def create_pin(self):\n",
    "        user_pin = input(\"Enter Your PIN : \")\n",
    "        self.pin = user_pin\n",
    "    \n",
    "        user_balance = int(input(\"Enter your Balance : \"))\n",
    "        self.__balance = user_balance\n",
    "    \n",
    "        print(\"Your PIN Created Successfully \")\n",
    "        \n",
    "    def change_pin(self):        \n",
    "        old_pin = input(\"Enter Your Old Pin : \")\n",
    "        \n",
    "        if old_pin == self.pin:\n",
    "           #Let him change the PIN\n",
    "           new_pin = input(\"Enter Your new Pin : \")\n",
    "           self.pin = new_pin\n",
    "           print(\"Your PIN has been changed successfully \")\n",
    "        else:\n",
    "            print(\"nahi kar sakta re Baba !!\")\n",
    "\n",
    "    def check_balance(self):\n",
    "        user_pin = input(\"Enter your PIN : \")\n",
    "        if user_pin == self.pin:\n",
    "            print(\"Your available Balance is : \",self.__balance)\n",
    "        else:\n",
    "            print(\"Chal Nikal Yahan Se...\")\n",
    "\n",
    "    def withdraw(self):\n",
    "        user_pin = input(\"Enter the PIN : \")\n",
    "        if user_pin == self.pin:\n",
    "        \n",
    "            amount = int(input(\"Enter the amount you want to withdraw : \"))\n",
    "            if amount <= self.__balance:\n",
    "                self.__balance = self.__balance - amount\n",
    "                print(\"Withdrawal Successful.Your available Balance is : \",self.__balance)\n",
    "            else:\n",
    "                print(\"Abbe Sale Garib !!! ??\")\n",
    "        else:\n",
    "            print(\"Your pwd is Incorrect !!!.. \")\n",
    "            "
   ]
  },
  {
   "cell_type": "code",
   "execution_count": 34,
   "id": "e3dfe7c8-eac0-4fa1-bf92-671865864c07",
   "metadata": {},
   "outputs": [
    {
     "name": "stdin",
     "output_type": "stream",
     "text": [
      "\n",
      "           Hi! How Can I help You ?\n",
      "           1.press 1 to create PIN\n",
      "           2.Press 2 to change PIN\n",
      "           3.Press 3 to Check Balance\n",
      "           4.Press 4 to withdraw\n",
      "           5.Anything else to Exit\n",
      "            9\n"
     ]
    },
    {
     "name": "stdout",
     "output_type": "stream",
     "text": [
      "Thank you for using our ATM. Goodbye! 👋\n"
     ]
    }
   ],
   "source": [
    "new_atm = Atm()\n",
    "new_atm.get_balance()\n",
    "new_atm.set_balance(12000)"
   ]
  },
  {
   "cell_type": "code",
   "execution_count": 36,
   "id": "7ed59dca-93f1-440e-b7f1-ba2f507a9053",
   "metadata": {},
   "outputs": [
    {
     "name": "stdin",
     "output_type": "stream",
     "text": [
      "Enter Your PIN :  1234\n",
      "Enter your Balance :  23\n"
     ]
    },
    {
     "name": "stdout",
     "output_type": "stream",
     "text": [
      "Your PIN Created Successfully \n"
     ]
    }
   ],
   "source": [
    "new_atm.create_pin()"
   ]
  },
  {
   "cell_type": "code",
   "execution_count": 37,
   "id": "ba683397-9ee2-4f2e-a3b5-c28ff9e727d0",
   "metadata": {},
   "outputs": [
    {
     "name": "stdin",
     "output_type": "stream",
     "text": [
      "Enter the PIN :  1234\n",
      "Enter the amount you want to withdraw :  4000\n"
     ]
    },
    {
     "name": "stdout",
     "output_type": "stream",
     "text": [
      "Abbe Sale Garib !!! ??\n"
     ]
    }
   ],
   "source": [
    "new_atm.withdraw()"
   ]
  },
  {
   "cell_type": "code",
   "execution_count": null,
   "id": "f60f0d3f-f056-4648-ae78-49d2d556cbfc",
   "metadata": {},
   "outputs": [],
   "source": []
  },
  {
   "cell_type": "markdown",
   "id": "35a776dd-0938-45e2-88bc-969c06b8180d",
   "metadata": {},
   "source": [
    "#### Collection Of Objects"
   ]
  },
  {
   "cell_type": "code",
   "execution_count": 39,
   "id": "0f381684-4a3d-40a2-bec0-b422dd7404dc",
   "metadata": {},
   "outputs": [
    {
     "name": "stdout",
     "output_type": "stream",
     "text": [
      "Nitish male\n",
      "Ankit male\n",
      "Ankita female\n"
     ]
    }
   ],
   "source": [
    "# lists of objects\n",
    "class Person:\n",
    "\n",
    "  def __init__(self,name,gender):\n",
    "    self.name = name\n",
    "    self.gender = gender\n",
    "\n",
    "p1 = Person('Nitish','male')\n",
    "p2 = Person('Ankit','male')\n",
    "p3 = Person('Ankita','female')\n",
    "\n",
    "L = [p1,p2,p3]\n",
    "\n",
    "for i in L:\n",
    "  print(i.name,i.gender)"
   ]
  },
  {
   "cell_type": "code",
   "execution_count": 41,
   "id": "344e9513-e216-4984-bf46-8a7f09aa6062",
   "metadata": {},
   "outputs": [
    {
     "name": "stdout",
     "output_type": "stream",
     "text": [
      "male\n",
      "male\n",
      "female\n"
     ]
    }
   ],
   "source": [
    "# dictionary of objects\n",
    "# lists of objects\n",
    "class Person:\n",
    "\n",
    "  def __init__(self,name,gender):\n",
    "    self.name = name\n",
    "    self.gender = gender\n",
    "\n",
    "p1 = Person('Nitish','male')\n",
    "p2 = Person('Ankit','male')\n",
    "p3 = Person('Ankita','female')\n",
    "\n",
    "d = {\"p1\":p1,\"p2\":p2,\"p3\":p3}\n",
    "\n",
    "for i in d:\n",
    "  print(d[i].gender)\n"
   ]
  },
  {
   "cell_type": "code",
   "execution_count": null,
   "id": "6325bf08-e84a-4346-b7b4-91bc07712b41",
   "metadata": {},
   "outputs": [],
   "source": []
  },
  {
   "cell_type": "markdown",
   "id": "1778ef4d-9136-4474-a27b-4f8bcdf9e0a8",
   "metadata": {},
   "source": [
    "### Static Variables ( vs Instance Variables )"
   ]
  },
  {
   "cell_type": "markdown",
   "id": "3a4edbb6-adf0-49ed-a884-10eca41030c6",
   "metadata": {},
   "source": [
    "###### NOTE: Instance variable ka value har object k liye different hota hai but static variable ka value har object k liye same hota hai\n",
    "###### NOTE 02 : Static variable class ka hota hai and Instance variable object ka hota hai\n",
    "###### NOTE 03: Instance variable hamesa construtor k andar define hota hai & static variable hamesa class k ander mtlb saare methods k bahar\n",
    "###### NOTE 04: To identify variable -->> if variable have prefix of class name then it is static and when prefix is self then it is instance variable"
   ]
  },
  {
   "cell_type": "code",
   "execution_count": 72,
   "id": "fa7a90fd-2cce-4cd1-9fbe-72fc0726c8bb",
   "metadata": {},
   "outputs": [],
   "source": [
    " class Atm:\n",
    "     \n",
    "    __counter = 1\n",
    "     \n",
    "    def __init__(self):\n",
    "       self.pin = \"\"\n",
    "       self.__balance = 0\n",
    "       self.cid = Atm.__counter\n",
    "       Atm.__counter = Atm.__counter + 1\n",
    "       # self.menu()\n",
    "\n",
    "    # these are utility functions \n",
    "    @staticmethod\n",
    "    def get_counter(self):\n",
    "         return Atm.__counter\n",
    "\n",
    "    def get_balance(self):\n",
    "        return self.__balance\n",
    "\n",
    "    def set_balance(self,new_value):\n",
    "        if type(new_value) == int:\n",
    "            self.__balance = new_value\n",
    "        else:\n",
    "            print('beta bahot maarenge')\n",
    "\n",
    "\n",
    "    def menu(self):\n",
    "        while True:\n",
    "            user_input = input(\"\"\"\n",
    "            Hi! How Can I help You ?\n",
    "            1.press 1 to create PIN\n",
    "            2.Press 2 to change PIN\n",
    "            3.Press 3 to Check Balance\n",
    "            4.Press 4 to withdraw\n",
    "            5.Anything else to Exit\n",
    "            \"\"\")\n",
    "            \n",
    "            if user_input == \"1\":\n",
    "                #create pin\n",
    "                self.create_pin()\n",
    "                \n",
    "            elif user_input == \"2\":\n",
    "                self.change_pin()\n",
    "                \n",
    "            elif user_input == \"3\":\n",
    "                self.check_balance()\n",
    "                \n",
    "            elif user_input == \"4\":\n",
    "                #withdraw\n",
    "                self.withdraw()\n",
    "    \n",
    "            else:\n",
    "                print(\"Thank you for using our ATM. Goodbye! 👋\")\n",
    "                break\n",
    "\n",
    "    def create_pin(self):\n",
    "        user_pin = input(\"Enter Your PIN : \")\n",
    "        self.pin = user_pin\n",
    "    \n",
    "        user_balance = int(input(\"Enter your Balance : \"))\n",
    "        self.__balance = user_balance\n",
    "    \n",
    "        print(\"Your PIN Created Successfully \")\n",
    "        \n",
    "    def change_pin(self):        \n",
    "        old_pin = input(\"Enter Your Old Pin : \")\n",
    "        \n",
    "        if old_pin == self.pin:\n",
    "           #Let him change the PIN\n",
    "           new_pin = input(\"Enter Your new Pin : \")\n",
    "           self.pin = new_pin\n",
    "           print(\"Your PIN has been changed successfully \")\n",
    "        else:\n",
    "            print(\"nahi kar sakta re Baba !!\")\n",
    "\n",
    "    def check_balance(self):\n",
    "        user_pin = input(\"Enter your PIN : \")\n",
    "        if user_pin == self.pin:\n",
    "            print(\"Your available Balance is : \",self.__balance)\n",
    "        else:\n",
    "            print(\"Chal Nikal Yahan Se...\")\n",
    "\n",
    "    def withdraw(self):\n",
    "        user_pin = input(\"Enter the PIN : \")\n",
    "        if user_pin == self.pin:\n",
    "        \n",
    "            amount = int(input(\"Enter the amount you want to withdraw : \"))\n",
    "            if amount <= self.__balance:\n",
    "                self.__balance = self.__balance - amount\n",
    "                print(\"Withdrawal Successful.Your available Balance is : \",self.__balance)\n",
    "            else:\n",
    "                print(\"Abbe Sale Garib !!! ??\")\n",
    "        else:\n",
    "            print(\"Your pwd is Incorrect !!!.. \")\n",
    "\n",
    "            "
   ]
  },
  {
   "cell_type": "code",
   "execution_count": 73,
   "id": "731c9b3a-ca04-4b64-ab4d-f22c97b3ff59",
   "metadata": {},
   "outputs": [],
   "source": [
    "c1 = Atm()"
   ]
  },
  {
   "cell_type": "code",
   "execution_count": 74,
   "id": "ed00a3e8-3a2f-49f7-a0dd-36f6ba341b3b",
   "metadata": {},
   "outputs": [],
   "source": [
    "c2 = Atm()"
   ]
  },
  {
   "cell_type": "code",
   "execution_count": 75,
   "id": "4a3a209c-c70a-46d8-a3e9-0d42d5d97891",
   "metadata": {},
   "outputs": [],
   "source": [
    "c3 = Atm()"
   ]
  },
  {
   "cell_type": "code",
   "execution_count": 76,
   "id": "03e05577-bf8a-4925-b882-eb29c1e9edb6",
   "metadata": {},
   "outputs": [
    {
     "data": {
      "text/plain": [
       "1"
      ]
     },
     "execution_count": 76,
     "metadata": {},
     "output_type": "execute_result"
    }
   ],
   "source": [
    "c1.cid"
   ]
  },
  {
   "cell_type": "code",
   "execution_count": 77,
   "id": "f70b84be-f03b-4613-a16e-e45dd613fa7e",
   "metadata": {},
   "outputs": [
    {
     "data": {
      "text/plain": [
       "2"
      ]
     },
     "execution_count": 77,
     "metadata": {},
     "output_type": "execute_result"
    }
   ],
   "source": [
    "c2.cid"
   ]
  },
  {
   "cell_type": "code",
   "execution_count": 78,
   "id": "871cce3c-4d8a-441b-8d7b-00d6905762b2",
   "metadata": {},
   "outputs": [
    {
     "data": {
      "text/plain": [
       "3"
      ]
     },
     "execution_count": 78,
     "metadata": {},
     "output_type": "execute_result"
    }
   ],
   "source": [
    "c3.cid"
   ]
  },
  {
   "cell_type": "code",
   "execution_count": null,
   "id": "264c4bcf-21f9-475f-9d68-94e293c8eb6b",
   "metadata": {},
   "outputs": [],
   "source": []
  },
  {
   "cell_type": "code",
   "execution_count": null,
   "id": "913a0083-e852-4cec-ab58-b14d2b3b3a34",
   "metadata": {},
   "outputs": [],
   "source": []
  },
  {
   "cell_type": "code",
   "execution_count": null,
   "id": "118b0bfb-47b3-4d7f-bc00-fb5f37dea03d",
   "metadata": {},
   "outputs": [],
   "source": []
  },
  {
   "cell_type": "code",
   "execution_count": null,
   "id": "ad08e95b-733d-4597-9245-96993357b75d",
   "metadata": {},
   "outputs": [],
   "source": []
  },
  {
   "cell_type": "code",
   "execution_count": null,
   "id": "162c9f50-aa99-4e34-8cb0-fa48e11325d4",
   "metadata": {},
   "outputs": [],
   "source": []
  }
 ],
 "metadata": {
  "kernelspec": {
   "display_name": "Python 3 (ipykernel)",
   "language": "python",
   "name": "python3"
  },
  "language_info": {
   "codemirror_mode": {
    "name": "ipython",
    "version": 3
   },
   "file_extension": ".py",
   "mimetype": "text/x-python",
   "name": "python",
   "nbconvert_exporter": "python",
   "pygments_lexer": "ipython3",
   "version": "3.12.7"
  }
 },
 "nbformat": 4,
 "nbformat_minor": 5
}
